{
 "cells": [
  {
   "cell_type": "code",
   "execution_count": 1,
   "id": "3fa7a4b9",
   "metadata": {},
   "outputs": [],
   "source": [
    "import sqlalchemy\n",
    "import pandas as pd\n",
    "import numpy as np\n",
    "import urllib\n",
    "import math\n",
    "import uuid\n",
    "import time\n",
    "from datetime import date # for datediff calc\n",
    "from datetime import datetime # for remit dates\n",
    "import os\n",
    "\n",
    "# sqlalchemy imports\n",
    "from sqlalchemy import create_engine\n",
    "from sqlalchemy import Table, Column, Integer, String, MetaData, ForeignKey\n",
    "from sqlalchemy import inspect\n",
    "from sqlalchemy.pool import NullPool"
   ]
  },
  {
   "cell_type": "code",
   "execution_count": 2,
   "id": "8de84724",
   "metadata": {},
   "outputs": [],
   "source": [
    "# Step1. get loan #s from spd buyout table\n",
    "# container --> has loan #s. need to change this to query instead of csv pull - DONE\n",
    "# connect to server --> connect_server(my_server,my_database) - DONE\n",
    "# Step 1a.? create sql tables --> create_sql_tables(container,sql_conn_mls) - DONE\n",
    "\n",
    "# Step 2a. create temp table for qrm - DONE\n",
    "# Step 2. create df for qrm_pulsar - DONE\n",
    "# Step 3. create df for spd pools - DONE\n",
    "# Step 4. create df for transaction pandi and or investor accounting table"
   ]
  },
  {
   "cell_type": "markdown",
   "id": "8024cc71",
   "metadata": {},
   "source": [
    "## Define Variables"
   ]
  },
  {
   "cell_type": "code",
   "execution_count": 3,
   "id": "8a01622e",
   "metadata": {},
   "outputs": [],
   "source": [
    "login = os.getlogin()\n",
    "date_string = time.strftime(\"%Y%m%d\", time.localtime()) # for use in timestamp for export files"
   ]
  },
  {
   "cell_type": "code",
   "execution_count": 4,
   "id": "45f1fff0",
   "metadata": {},
   "outputs": [
    {
     "data": {
      "text/plain": [
       "'20241009'"
      ]
     },
     "execution_count": 4,
     "metadata": {},
     "output_type": "execute_result"
    }
   ],
   "source": [
    "date_string"
   ]
  },
  {
   "cell_type": "markdown",
   "id": "328f37ac",
   "metadata": {},
   "source": [
    "## Define SQL Functions and Variables"
   ]
  },
  {
   "cell_type": "code",
   "execution_count": 5,
   "id": "6a83d5d3",
   "metadata": {},
   "outputs": [],
   "source": [
    "def get_loan_numbers_to_create_temp_table(path_import, file_name):\n",
    "    '''\n",
    "    Reads eligibility csv file and converts into dictionary to create temp table\n",
    "    Make sure file_name parameter includes the csv or xlsx extension. Script will check for it.\n",
    "    Make sure to use csv, and loan number column titled 'LoanId'\n",
    "    End result is a data container that contains tempTableName and input as a dataframe of the loan list\n",
    "    '''\n",
    "\n",
    "    # check for csv or xlsx in filename\n",
    "    if file_name[-3:] == 'csv':\n",
    "        df = pd.read_csv(path_import + '\\\\' + file_name)['LoanId'].to_frame(name=None)\n",
    "    else:\n",
    "        df = pd.read_excel(path_import + '\\\\' + file_name)['LoanId'].to_frame(name=None)\n",
    "\n",
    "    packageInfo = {'tempTableName': '##PBOTracker', 'inputs': df}\n",
    "    \n",
    "    return packageInfo\n"
   ]
  },
  {
   "cell_type": "code",
   "execution_count": 6,
   "id": "b5ab905e",
   "metadata": {},
   "outputs": [],
   "source": [
    "def connect_server(serverName,dataBase):\n",
    "    '''\n",
    "    Return a connection to a MS SQL Server using sqlalchemy,\n",
    "        this is an instance and will stay alive as long as you dont close it\n",
    "        input parameters serverName and dataBase are strings\n",
    "    '''\n",
    "    \n",
    "    conn_str = urllib.parse.quote_plus(r'DRIVER={ODBC Driver 17 for SQL Server};SERVER=' +\n",
    "                                       serverName + \n",
    "                                       r';DATABASE=' +\n",
    "                                       dataBase + \n",
    "                                       r';TRUSTED_CONNECTION=yes')\n",
    "    conn = 'mssql+pyodbc:///?odbc_connect={}'.format(conn_str)\n",
    "    engine = sqlalchemy.create_engine(conn)\n",
    "    connection = engine.connect()\n",
    "    return connection\n"
   ]
  },
  {
   "cell_type": "code",
   "execution_count": 7,
   "id": "0d24382b",
   "metadata": {},
   "outputs": [],
   "source": [
    "# Step 1: get loan numbers for container\n",
    "my_server_fc1 = 'SRV-SQLFC-1'\n",
    "my_database_fc1 = 'SPD'\n",
    "my_path_sql = 'M:\\Capital Markets\\PIPE\\EBO\\SQL Scripts\\Adhoc Queries'\n",
    "my_filename_sql = 'get_ebo_buyout_loannumbers.sql'"
   ]
  },
  {
   "cell_type": "code",
   "execution_count": 8,
   "id": "cccaf4c0",
   "metadata": {},
   "outputs": [],
   "source": [
    "def create_dataframe_from_sql_query(server_name, database_name, query_path, query_name):\n",
    "    '''\n",
    "    Creates dataframe from a SQL query. See below for parameter descriptions\n",
    "        server_name: name of server for query\n",
    "        database_name: name of database for query\n",
    "        query_path: path where sql query resides on shared drive\n",
    "        query_name: name of sql query to use\n",
    "    '''\n",
    "    \n",
    "    conn = connect_server(server_name, database_name)\n",
    "   \n",
    "    df = pd.read_sql_query(get_sql_query(query_path,query_name),\n",
    "                                     con = conn)\n",
    "    conn.close()\n",
    "    return df"
   ]
  },
  {
   "cell_type": "code",
   "execution_count": 9,
   "id": "1871164a",
   "metadata": {},
   "outputs": [],
   "source": [
    "# create_dataframe_from_sql_query(container, my_server, my_database, query_path, query_name_oterm)"
   ]
  },
  {
   "cell_type": "code",
   "execution_count": 10,
   "id": "56ea1c9b",
   "metadata": {},
   "outputs": [],
   "source": [
    "# helper function to get sql query on shared drive\n",
    "def get_sql_query(path_import_sql, filename_sql):\n",
    "    '''\n",
    "    Filename: name of sql file\n",
    "    returns the sql file contents as a string\n",
    "    '''\n",
    "    # opens file in read mode\n",
    "    sqlFile = open(f'{path_import_sql}\\\\{filename_sql}', 'r') \n",
    "    \n",
    "    # read file into variable\n",
    "    query = sqlFile.read()\n",
    "    return query"
   ]
  },
  {
   "cell_type": "markdown",
   "id": "be7137a4",
   "metadata": {},
   "source": [
    "## Get Loannums Using SQL"
   ]
  },
  {
   "cell_type": "code",
   "execution_count": 11,
   "id": "ea93b160",
   "metadata": {},
   "outputs": [],
   "source": [
    "df_loannums = create_dataframe_from_sql_query(my_server_fc1, my_database_fc1, my_path_sql, my_filename_sql)"
   ]
  },
  {
   "cell_type": "code",
   "execution_count": 12,
   "id": "372bd189",
   "metadata": {},
   "outputs": [
    {
     "data": {
      "text/html": [
       "<div>\n",
       "<style scoped>\n",
       "    .dataframe tbody tr th:only-of-type {\n",
       "        vertical-align: middle;\n",
       "    }\n",
       "\n",
       "    .dataframe tbody tr th {\n",
       "        vertical-align: top;\n",
       "    }\n",
       "\n",
       "    .dataframe thead th {\n",
       "        text-align: right;\n",
       "    }\n",
       "</style>\n",
       "<table border=\"1\" class=\"dataframe\">\n",
       "  <thead>\n",
       "    <tr style=\"text-align: right;\">\n",
       "      <th></th>\n",
       "      <th>LoanId</th>\n",
       "    </tr>\n",
       "  </thead>\n",
       "  <tbody>\n",
       "    <tr>\n",
       "      <th>0</th>\n",
       "      <td>7.000730e+09</td>\n",
       "    </tr>\n",
       "    <tr>\n",
       "      <th>1</th>\n",
       "      <td>1.004431e+09</td>\n",
       "    </tr>\n",
       "    <tr>\n",
       "      <th>2</th>\n",
       "      <td>1.005020e+09</td>\n",
       "    </tr>\n",
       "    <tr>\n",
       "      <th>3</th>\n",
       "      <td>1.000294e+09</td>\n",
       "    </tr>\n",
       "    <tr>\n",
       "      <th>4</th>\n",
       "      <td>8.021949e+09</td>\n",
       "    </tr>\n",
       "  </tbody>\n",
       "</table>\n",
       "</div>"
      ],
      "text/plain": [
       "         LoanId\n",
       "0  7.000730e+09\n",
       "1  1.004431e+09\n",
       "2  1.005020e+09\n",
       "3  1.000294e+09\n",
       "4  8.021949e+09"
      ]
     },
     "execution_count": 12,
     "metadata": {},
     "output_type": "execute_result"
    }
   ],
   "source": [
    "df_loannums.head()"
   ]
  },
  {
   "cell_type": "code",
   "execution_count": 13,
   "id": "6a287905",
   "metadata": {},
   "outputs": [],
   "source": [
    "container = {'tempTableName': '##PBOTracker', 'inputs': df_loannums}"
   ]
  },
  {
   "cell_type": "code",
   "execution_count": 14,
   "id": "8c79830c",
   "metadata": {},
   "outputs": [],
   "source": [
    "# need to create temp table for qrm, for spd on fc1 just make the initial table, "
   ]
  },
  {
   "cell_type": "code",
   "execution_count": 15,
   "id": "6892e53f",
   "metadata": {},
   "outputs": [],
   "source": [
    "def create_sql_tables(packageInfo,conn):\n",
    "    \"\"\"\n",
    "    Creates a temp table on the given connection.\n",
    "    packageInfo parameter should include tempTableName and dataframe consisting of LoanIds\n",
    "    Temp table contains loan ids and UPB from the given data date.\n",
    "    Note: Loan input needs to have loan #'s column as 'LoanId' otherwise it will return an empty TempTable\n",
    "    \"\"\"\n",
    "    # Get meta data\n",
    "    metadata = MetaData()\n",
    "\n",
    "    # Define SQL Table\n",
    "    populationTable = Table(packageInfo['tempTableName'],metadata, \n",
    "        Column('LoanId', String, primary_key=False)\n",
    "    )\n",
    "   \n",
    "    # Create the table\n",
    "    populationTable.create(conn, checkfirst=True)\n",
    "    print(f\"Temp table - {packageInfo['tempTableName']} created.\")\n",
    "\n",
    "    # Populate the table\n",
    "    data = packageInfo[\"inputs\"].to_dict('records')\n",
    "    rows = 1000\n",
    "    nIter = int(math.ceil(len(data)/rows))\n",
    "    for n in range(1,nIter+1,1):\n",
    "        conn.execute(populationTable.insert().values(data[(n-1) * rows : n * rows]))\n",
    "    \n",
    "    conn.close()\n",
    "    return populationTable"
   ]
  },
  {
   "cell_type": "markdown",
   "id": "d1d28d97",
   "metadata": {},
   "source": [
    "## Get QRM Redelivery Data (qrm_pulsar)"
   ]
  },
  {
   "cell_type": "code",
   "execution_count": 16,
   "id": "79df8915",
   "metadata": {},
   "outputs": [
    {
     "name": "stdout",
     "output_type": "stream",
     "text": [
      "Temp table - ##PBOTracker created.\n"
     ]
    },
    {
     "data": {
      "text/plain": [
       "Table('##PBOTracker', MetaData(), Column('LoanId', String(), table=<##PBOTracker>), schema=None)"
      ]
     },
     "execution_count": 16,
     "metadata": {},
     "output_type": "execute_result"
    }
   ],
   "source": [
    "# Step 2\n",
    "# create qrm_pulsar dataframe - see if this openquery works\n",
    "# need to check pmsr to see what it does for multiple periods\n",
    "my_server_qrm = 'AWWAPULSSQLDP01'\n",
    "my_database_qrm = 'qrm_pulsar'\n",
    "my_path_sql_qrm = 'M:\\Capital Markets\\PIPE\\EBO\\SQL Scripts\\Adhoc Queries'\n",
    "my_filename_sql_qrm = 'QRM_pipe_PL.sql'\n",
    "qrm_conn = connect_server(my_server_qrm,my_database_qrm)\n",
    "create_sql_tables(container,qrm_conn)"
   ]
  },
  {
   "cell_type": "code",
   "execution_count": 17,
   "id": "2c0488d8",
   "metadata": {},
   "outputs": [],
   "source": [
    "qrm_conn.close()"
   ]
  },
  {
   "cell_type": "code",
   "execution_count": 18,
   "id": "2035d238",
   "metadata": {},
   "outputs": [],
   "source": [
    "df_qrm = create_dataframe_from_sql_query(my_server_qrm, my_database_qrm, my_path_sql_qrm, my_filename_sql_qrm)"
   ]
  },
  {
   "cell_type": "code",
   "execution_count": 19,
   "id": "bf840152",
   "metadata": {},
   "outputs": [
    {
     "name": "stdout",
     "output_type": "stream",
     "text": [
      "Temp table - ##PBOTracker created.\n"
     ]
    },
    {
     "data": {
      "text/plain": [
       "Table('##PBOTracker', MetaData(), Column('LoanId', String(), table=<##PBOTracker>), schema=None)"
      ]
     },
     "execution_count": 19,
     "metadata": {},
     "output_type": "execute_result"
    }
   ],
   "source": [
    "fc1_conn = connect_server(my_server_fc1,my_database_fc1)\n",
    "create_sql_tables(container,fc1_conn)"
   ]
  },
  {
   "cell_type": "code",
   "execution_count": 20,
   "id": "379f2d78",
   "metadata": {},
   "outputs": [],
   "source": [
    "fc1_conn.close()"
   ]
  },
  {
   "cell_type": "code",
   "execution_count": 21,
   "id": "93904759",
   "metadata": {},
   "outputs": [
    {
     "data": {
      "text/html": [
       "<div>\n",
       "<style scoped>\n",
       "    .dataframe tbody tr th:only-of-type {\n",
       "        vertical-align: middle;\n",
       "    }\n",
       "\n",
       "    .dataframe tbody tr th {\n",
       "        vertical-align: top;\n",
       "    }\n",
       "\n",
       "    .dataframe thead th {\n",
       "        text-align: right;\n",
       "    }\n",
       "</style>\n",
       "<table border=\"1\" class=\"dataframe\">\n",
       "  <thead>\n",
       "    <tr style=\"text-align: right;\">\n",
       "      <th></th>\n",
       "      <th>Loan Number</th>\n",
       "      <th>Face Amount</th>\n",
       "      <th>Issue Date Balance</th>\n",
       "      <th>YearMonth</th>\n",
       "      <th>Buy Price</th>\n",
       "      <th>Shared Econ</th>\n",
       "      <th>repurchase_date_calc</th>\n",
       "      <th>investor_redelivery_premium_pct</th>\n",
       "      <th>investor_redelivery_premium_dlr</th>\n",
       "      <th>penny_redelivery_premium_pct</th>\n",
       "      <th>penny_redelivery_premium_dlr</th>\n",
       "      <th>Pool Num</th>\n",
       "      <th>Management</th>\n",
       "      <th>Pool Status</th>\n",
       "      <th>Type Dimension</th>\n",
       "      <th>Loan Type</th>\n",
       "      <th>settled date</th>\n",
       "      <th>settled price</th>\n",
       "      <th>EBO_Investor</th>\n",
       "      <th>Path_Reperf</th>\n",
       "    </tr>\n",
       "  </thead>\n",
       "  <tbody>\n",
       "    <tr>\n",
       "      <th>0</th>\n",
       "      <td>1000034167</td>\n",
       "      <td>202.18975</td>\n",
       "      <td>201.81871</td>\n",
       "      <td>202002</td>\n",
       "      <td>100.000</td>\n",
       "      <td>0</td>\n",
       "      <td>2020-02-11</td>\n",
       "      <td>1.00000</td>\n",
       "      <td>202189.750000</td>\n",
       "      <td>0.02605</td>\n",
       "      <td>5257.377395</td>\n",
       "      <td>BR3339</td>\n",
       "      <td>EBO</td>\n",
       "      <td>Settled</td>\n",
       "      <td>CL</td>\n",
       "      <td>F30MOD</td>\n",
       "      <td>2020-02-21</td>\n",
       "      <td>102.605469</td>\n",
       "      <td>PNMAC</td>\n",
       "      <td>Mod</td>\n",
       "    </tr>\n",
       "    <tr>\n",
       "      <th>1</th>\n",
       "      <td>1000034173</td>\n",
       "      <td>316.73414</td>\n",
       "      <td>316.19527</td>\n",
       "      <td>202202</td>\n",
       "      <td>100.275</td>\n",
       "      <td>50</td>\n",
       "      <td>2022-01-25</td>\n",
       "      <td>0.00275</td>\n",
       "      <td>871.018885</td>\n",
       "      <td>0.00275</td>\n",
       "      <td>871.018885</td>\n",
       "      <td>CJ6303</td>\n",
       "      <td>EBO</td>\n",
       "      <td>Settled</td>\n",
       "      <td>CL</td>\n",
       "      <td>F30MOD</td>\n",
       "      <td>2022-02-03</td>\n",
       "      <td>100.816406</td>\n",
       "      <td>MassMutual</td>\n",
       "      <td>Mod</td>\n",
       "    </tr>\n",
       "    <tr>\n",
       "      <th>2</th>\n",
       "      <td>1000034185</td>\n",
       "      <td>473.12430</td>\n",
       "      <td>472.33205</td>\n",
       "      <td>202112</td>\n",
       "      <td>100.000</td>\n",
       "      <td>0</td>\n",
       "      <td>2021-12-18</td>\n",
       "      <td>1.00000</td>\n",
       "      <td>473124.300000</td>\n",
       "      <td>0.03797</td>\n",
       "      <td>17934.447938</td>\n",
       "      <td>CJ6164</td>\n",
       "      <td>EBO</td>\n",
       "      <td>Settled</td>\n",
       "      <td>CL</td>\n",
       "      <td>F30MOD</td>\n",
       "      <td>2021-12-27</td>\n",
       "      <td>103.796875</td>\n",
       "      <td>PNMAC</td>\n",
       "      <td>Mod</td>\n",
       "    </tr>\n",
       "    <tr>\n",
       "      <th>3</th>\n",
       "      <td>1000034185</td>\n",
       "      <td>471.48519</td>\n",
       "      <td>471.48519</td>\n",
       "      <td>202306</td>\n",
       "      <td>100.000</td>\n",
       "      <td>0</td>\n",
       "      <td>2023-05-28</td>\n",
       "      <td>1.00000</td>\n",
       "      <td>471485.190000</td>\n",
       "      <td>0.01121</td>\n",
       "      <td>5285.348980</td>\n",
       "      <td>CV2547</td>\n",
       "      <td>EBO</td>\n",
       "      <td>Settled</td>\n",
       "      <td>CL</td>\n",
       "      <td>F30MOD</td>\n",
       "      <td>2023-06-06</td>\n",
       "      <td>101.121094</td>\n",
       "      <td>PNMAC</td>\n",
       "      <td>Mod</td>\n",
       "    </tr>\n",
       "    <tr>\n",
       "      <th>4</th>\n",
       "      <td>1000034250</td>\n",
       "      <td>153.87552</td>\n",
       "      <td>153.58475</td>\n",
       "      <td>202007</td>\n",
       "      <td>100.000</td>\n",
       "      <td>0</td>\n",
       "      <td>2020-07-19</td>\n",
       "      <td>1.00000</td>\n",
       "      <td>153875.520000</td>\n",
       "      <td>0.07523</td>\n",
       "      <td>11554.180743</td>\n",
       "      <td>BW6275</td>\n",
       "      <td>EBO</td>\n",
       "      <td>Settled</td>\n",
       "      <td>CL</td>\n",
       "      <td>F30MOD</td>\n",
       "      <td>2020-07-27</td>\n",
       "      <td>107.523438</td>\n",
       "      <td>PNMAC</td>\n",
       "      <td>Mod</td>\n",
       "    </tr>\n",
       "  </tbody>\n",
       "</table>\n",
       "</div>"
      ],
      "text/plain": [
       "  Loan Number  Face Amount  Issue Date Balance YearMonth  Buy Price  \\\n",
       "0  1000034167    202.18975           201.81871    202002    100.000   \n",
       "1  1000034173    316.73414           316.19527    202202    100.275   \n",
       "2  1000034185    473.12430           472.33205    202112    100.000   \n",
       "3  1000034185    471.48519           471.48519    202306    100.000   \n",
       "4  1000034250    153.87552           153.58475    202007    100.000   \n",
       "\n",
       "   Shared Econ repurchase_date_calc  investor_redelivery_premium_pct  \\\n",
       "0            0           2020-02-11                          1.00000   \n",
       "1           50           2022-01-25                          0.00275   \n",
       "2            0           2021-12-18                          1.00000   \n",
       "3            0           2023-05-28                          1.00000   \n",
       "4            0           2020-07-19                          1.00000   \n",
       "\n",
       "   investor_redelivery_premium_dlr  penny_redelivery_premium_pct  \\\n",
       "0                    202189.750000                       0.02605   \n",
       "1                       871.018885                       0.00275   \n",
       "2                    473124.300000                       0.03797   \n",
       "3                    471485.190000                       0.01121   \n",
       "4                    153875.520000                       0.07523   \n",
       "\n",
       "   penny_redelivery_premium_dlr                    Pool Num Management  \\\n",
       "0                   5257.377395  BR3339                            EBO   \n",
       "1                    871.018885  CJ6303                            EBO   \n",
       "2                  17934.447938  CJ6164                            EBO   \n",
       "3                   5285.348980  CV2547                            EBO   \n",
       "4                  11554.180743  BW6275                            EBO   \n",
       "\n",
       "       Pool Status Type Dimension   Loan Type settled date  settled price  \\\n",
       "0  Settled                     CL  F30MOD       2020-02-21     102.605469   \n",
       "1  Settled                     CL  F30MOD       2022-02-03     100.816406   \n",
       "2  Settled                     CL  F30MOD       2021-12-27     103.796875   \n",
       "3  Settled                     CL  F30MOD       2023-06-06     101.121094   \n",
       "4  Settled                     CL  F30MOD       2020-07-27     107.523438   \n",
       "\n",
       "  EBO_Investor Path_Reperf  \n",
       "0        PNMAC         Mod  \n",
       "1   MassMutual         Mod  \n",
       "2        PNMAC         Mod  \n",
       "3        PNMAC         Mod  \n",
       "4        PNMAC         Mod  "
      ]
     },
     "execution_count": 21,
     "metadata": {},
     "output_type": "execute_result"
    }
   ],
   "source": [
    "df_qrm.head()"
   ]
  },
  {
   "cell_type": "markdown",
   "id": "80a74b04",
   "metadata": {},
   "source": [
    "## Get QRM Historical Market Data (qrm_pulsar)"
   ]
  },
  {
   "cell_type": "code",
   "execution_count": 22,
   "id": "9b6e7c09",
   "metadata": {},
   "outputs": [],
   "source": [
    "# Step 2\n",
    "# create qrm_pulsar dataframe - see if this openquery works\n",
    "# need to check pmsr to see what it does for multiple periods\n",
    "# my_server_qrm = 'AWWAPULSSQLDP01' # already defined above\n",
    "# my_database_qrm = 'qrm_pulsar' # already defined above\n",
    "# my_path_sql_qrm = 'M:\\Capital Markets\\PIPE\\EBO\\SQL Scripts\\Adhoc Queries' # already defined above\n",
    "my_filename_sql_qrm_market = 'QRM_HistoricalMarket_prices_eom.sql'\n",
    "qrm_conn_mkt = connect_server(my_server_qrm,my_database_qrm)\n",
    "# create_sql_tables(container,qrm_conn_mkt) # <<<< might have to change this"
   ]
  },
  {
   "cell_type": "code",
   "execution_count": 23,
   "id": "62d2ad9e",
   "metadata": {},
   "outputs": [],
   "source": [
    "df_qrm_market = create_dataframe_from_sql_query(my_server_qrm, my_database_qrm, my_path_sql_qrm, my_filename_sql_qrm_market)"
   ]
  },
  {
   "cell_type": "code",
   "execution_count": 24,
   "id": "a37c2fca",
   "metadata": {},
   "outputs": [],
   "source": [
    "df_qrm_market.meperiod_qrm_market = df_qrm_market.meperiod_qrm_market.astype('int64') # for when merging with cte_ebo dataframe # meperiod is int64"
   ]
  },
  {
   "cell_type": "markdown",
   "id": "f1e5bc7e",
   "metadata": {},
   "source": [
    "## Get Main EBO Trade Data (FC1)"
   ]
  },
  {
   "cell_type": "code",
   "execution_count": 25,
   "id": "ebfe503f",
   "metadata": {},
   "outputs": [],
   "source": [
    "# Step 3. create df for spd pools\n",
    "my_server_fc1 = 'SRV-SQLFC-1'\n",
    "my_database_fc1 = 'SPD'\n",
    "my_path_sql_fc1 = 'M:\\Capital Markets\\PIPE\\EBO\\SQL Scripts\\Adhoc Queries'\n",
    "my_filename_sql_ebo = 'ebo_program_cte_fc1.sql'\n",
    "df_ebo = create_dataframe_from_sql_query(my_server_fc1, my_database_fc1, my_path_sql_fc1, my_filename_sql_ebo)"
   ]
  },
  {
   "cell_type": "code",
   "execution_count": 26,
   "id": "ab917218",
   "metadata": {},
   "outputs": [
    {
     "data": {
      "text/html": [
       "<div>\n",
       "<style scoped>\n",
       "    .dataframe tbody tr th:only-of-type {\n",
       "        vertical-align: middle;\n",
       "    }\n",
       "\n",
       "    .dataframe tbody tr th {\n",
       "        vertical-align: top;\n",
       "    }\n",
       "\n",
       "    .dataframe thead th {\n",
       "        text-align: right;\n",
       "    }\n",
       "</style>\n",
       "<table border=\"1\" class=\"dataframe\">\n",
       "  <thead>\n",
       "    <tr style=\"text-align: right;\">\n",
       "      <th></th>\n",
       "      <th>PrimeKey_pbo</th>\n",
       "      <th>SaleMonth</th>\n",
       "      <th>LoanId</th>\n",
       "      <th>Investor_pbosale</th>\n",
       "      <th>PBOSale_SalePassThru</th>\n",
       "      <th>PBOSale_SaleUPB_Orig</th>\n",
       "      <th>GoSSplit_pbosale</th>\n",
       "      <th>MEPeriod_pbo</th>\n",
       "      <th>trade_period</th>\n",
       "      <th>wire_date_remit</th>\n",
       "      <th>...</th>\n",
       "      <th>PBOSale_SalePassThru2</th>\n",
       "      <th>PBOSale_SaleDate</th>\n",
       "      <th>PBOSale_IntPaidToDate</th>\n",
       "      <th>me_tradeperiod_0</th>\n",
       "      <th>LoanType_2</th>\n",
       "      <th>path_pif</th>\n",
       "      <th>path_liq</th>\n",
       "      <th>investor_pbosale_vector_pivot</th>\n",
       "      <th>clean_and_current_4mo</th>\n",
       "      <th>clean_and_current_7mo</th>\n",
       "    </tr>\n",
       "  </thead>\n",
       "  <tbody>\n",
       "    <tr>\n",
       "      <th>0</th>\n",
       "      <td>1.000155e+13</td>\n",
       "      <td>202203</td>\n",
       "      <td>1000154904</td>\n",
       "      <td>NB</td>\n",
       "      <td>0.04</td>\n",
       "      <td>176416.66</td>\n",
       "      <td>0.5</td>\n",
       "      <td>202202</td>\n",
       "      <td>0</td>\n",
       "      <td>2022-03-15</td>\n",
       "      <td>...</td>\n",
       "      <td>0.04</td>\n",
       "      <td>2022-03-01</td>\n",
       "      <td>2021-11-01</td>\n",
       "      <td>202202</td>\n",
       "      <td>FHA</td>\n",
       "      <td>NULL</td>\n",
       "      <td>NULL</td>\n",
       "      <td>NB</td>\n",
       "      <td>0</td>\n",
       "      <td>0</td>\n",
       "    </tr>\n",
       "    <tr>\n",
       "      <th>1</th>\n",
       "      <td>1.000155e+13</td>\n",
       "      <td>202203</td>\n",
       "      <td>1000154904</td>\n",
       "      <td>NB</td>\n",
       "      <td>0.04</td>\n",
       "      <td>176416.66</td>\n",
       "      <td>0.5</td>\n",
       "      <td>202203</td>\n",
       "      <td>1</td>\n",
       "      <td>2022-04-15</td>\n",
       "      <td>...</td>\n",
       "      <td>NaN</td>\n",
       "      <td>None</td>\n",
       "      <td>None</td>\n",
       "      <td>None</td>\n",
       "      <td>None</td>\n",
       "      <td>NULL</td>\n",
       "      <td>NULL</td>\n",
       "      <td>NB</td>\n",
       "      <td>0</td>\n",
       "      <td>0</td>\n",
       "    </tr>\n",
       "    <tr>\n",
       "      <th>2</th>\n",
       "      <td>1.000155e+13</td>\n",
       "      <td>202203</td>\n",
       "      <td>1000154904</td>\n",
       "      <td>NB</td>\n",
       "      <td>0.04</td>\n",
       "      <td>176416.66</td>\n",
       "      <td>0.5</td>\n",
       "      <td>202204</td>\n",
       "      <td>2</td>\n",
       "      <td>2022-05-15</td>\n",
       "      <td>...</td>\n",
       "      <td>NaN</td>\n",
       "      <td>None</td>\n",
       "      <td>None</td>\n",
       "      <td>None</td>\n",
       "      <td>None</td>\n",
       "      <td>NULL</td>\n",
       "      <td>NULL</td>\n",
       "      <td>NB</td>\n",
       "      <td>0</td>\n",
       "      <td>0</td>\n",
       "    </tr>\n",
       "    <tr>\n",
       "      <th>3</th>\n",
       "      <td>1.000155e+13</td>\n",
       "      <td>202203</td>\n",
       "      <td>1000154904</td>\n",
       "      <td>NB</td>\n",
       "      <td>0.04</td>\n",
       "      <td>176416.66</td>\n",
       "      <td>0.5</td>\n",
       "      <td>202205</td>\n",
       "      <td>3</td>\n",
       "      <td>2022-06-15</td>\n",
       "      <td>...</td>\n",
       "      <td>NaN</td>\n",
       "      <td>None</td>\n",
       "      <td>None</td>\n",
       "      <td>None</td>\n",
       "      <td>None</td>\n",
       "      <td>NULL</td>\n",
       "      <td>NULL</td>\n",
       "      <td>NB</td>\n",
       "      <td>0</td>\n",
       "      <td>0</td>\n",
       "    </tr>\n",
       "    <tr>\n",
       "      <th>4</th>\n",
       "      <td>1.000155e+13</td>\n",
       "      <td>202203</td>\n",
       "      <td>1000154904</td>\n",
       "      <td>NB</td>\n",
       "      <td>0.04</td>\n",
       "      <td>176416.66</td>\n",
       "      <td>0.5</td>\n",
       "      <td>202206</td>\n",
       "      <td>4</td>\n",
       "      <td>2022-07-15</td>\n",
       "      <td>...</td>\n",
       "      <td>NaN</td>\n",
       "      <td>None</td>\n",
       "      <td>None</td>\n",
       "      <td>None</td>\n",
       "      <td>None</td>\n",
       "      <td>NULL</td>\n",
       "      <td>NULL</td>\n",
       "      <td>NB</td>\n",
       "      <td>0</td>\n",
       "      <td>0</td>\n",
       "    </tr>\n",
       "  </tbody>\n",
       "</table>\n",
       "<p>5 rows × 96 columns</p>\n",
       "</div>"
      ],
      "text/plain": [
       "   PrimeKey_pbo  SaleMonth      LoanId Investor_pbosale  PBOSale_SalePassThru  \\\n",
       "0  1.000155e+13     202203  1000154904               NB                  0.04   \n",
       "1  1.000155e+13     202203  1000154904               NB                  0.04   \n",
       "2  1.000155e+13     202203  1000154904               NB                  0.04   \n",
       "3  1.000155e+13     202203  1000154904               NB                  0.04   \n",
       "4  1.000155e+13     202203  1000154904               NB                  0.04   \n",
       "\n",
       "   PBOSale_SaleUPB_Orig  GoSSplit_pbosale  MEPeriod_pbo  trade_period  \\\n",
       "0             176416.66               0.5        202202             0   \n",
       "1             176416.66               0.5        202203             1   \n",
       "2             176416.66               0.5        202204             2   \n",
       "3             176416.66               0.5        202205             3   \n",
       "4             176416.66               0.5        202206             4   \n",
       "\n",
       "  wire_date_remit  ... PBOSale_SalePassThru2 PBOSale_SaleDate  \\\n",
       "0      2022-03-15  ...                  0.04       2022-03-01   \n",
       "1      2022-04-15  ...                   NaN             None   \n",
       "2      2022-05-15  ...                   NaN             None   \n",
       "3      2022-06-15  ...                   NaN             None   \n",
       "4      2022-07-15  ...                   NaN             None   \n",
       "\n",
       "  PBOSale_IntPaidToDate me_tradeperiod_0 LoanType_2 path_pif  path_liq  \\\n",
       "0            2021-11-01           202202        FHA     NULL      NULL   \n",
       "1                  None             None       None     NULL      NULL   \n",
       "2                  None             None       None     NULL      NULL   \n",
       "3                  None             None       None     NULL      NULL   \n",
       "4                  None             None       None     NULL      NULL   \n",
       "\n",
       "   investor_pbosale_vector_pivot  clean_and_current_4mo  clean_and_current_7mo  \n",
       "0                             NB                      0                      0  \n",
       "1                             NB                      0                      0  \n",
       "2                             NB                      0                      0  \n",
       "3                             NB                      0                      0  \n",
       "4                             NB                      0                      0  \n",
       "\n",
       "[5 rows x 96 columns]"
      ]
     },
     "execution_count": 26,
     "metadata": {},
     "output_type": "execute_result"
    }
   ],
   "source": [
    "df_ebo.head()"
   ]
  },
  {
   "cell_type": "code",
   "execution_count": 27,
   "id": "5e491fd2",
   "metadata": {},
   "outputs": [
    {
     "data": {
      "text/plain": [
       "(13878, 96)"
      ]
     },
     "execution_count": 27,
     "metadata": {},
     "output_type": "execute_result"
    }
   ],
   "source": [
    "df_ebo.shape"
   ]
  },
  {
   "cell_type": "code",
   "execution_count": 28,
   "id": "0bff80a1",
   "metadata": {},
   "outputs": [
    {
     "data": {
      "text/plain": [
       "(165402, 20)"
      ]
     },
     "execution_count": 28,
     "metadata": {},
     "output_type": "execute_result"
    }
   ],
   "source": [
    "df_qrm.shape"
   ]
  },
  {
   "cell_type": "code",
   "execution_count": 29,
   "id": "69e57b99",
   "metadata": {},
   "outputs": [
    {
     "data": {
      "text/plain": [
       "(96004, 1)"
      ]
     },
     "execution_count": 29,
     "metadata": {},
     "output_type": "execute_result"
    }
   ],
   "source": [
    "# distinct loannums from ebo program\n",
    "df_loannums.shape"
   ]
  },
  {
   "cell_type": "code",
   "execution_count": 30,
   "id": "99a4c6b3",
   "metadata": {},
   "outputs": [],
   "source": [
    "df_ebo.PrimeKey_pbo = df_ebo.PrimeKey_pbo.astype('int64')"
   ]
  },
  {
   "cell_type": "code",
   "execution_count": 31,
   "id": "f5a97bf5",
   "metadata": {},
   "outputs": [],
   "source": [
    "df_ebo.PrimeKey_pbo = df_ebo.PrimeKey_pbo.astype('int64')"
   ]
  },
  {
   "cell_type": "code",
   "execution_count": 32,
   "id": "c12bf48b",
   "metadata": {},
   "outputs": [
    {
     "data": {
      "text/html": [
       "<div>\n",
       "<style scoped>\n",
       "    .dataframe tbody tr th:only-of-type {\n",
       "        vertical-align: middle;\n",
       "    }\n",
       "\n",
       "    .dataframe tbody tr th {\n",
       "        vertical-align: top;\n",
       "    }\n",
       "\n",
       "    .dataframe thead th {\n",
       "        text-align: right;\n",
       "    }\n",
       "</style>\n",
       "<table border=\"1\" class=\"dataframe\">\n",
       "  <thead>\n",
       "    <tr style=\"text-align: right;\">\n",
       "      <th></th>\n",
       "      <th>PrimeKey_pbo</th>\n",
       "      <th>SaleMonth</th>\n",
       "      <th>LoanId</th>\n",
       "      <th>Investor_pbosale</th>\n",
       "      <th>PBOSale_SalePassThru</th>\n",
       "      <th>PBOSale_SaleUPB_Orig</th>\n",
       "      <th>GoSSplit_pbosale</th>\n",
       "      <th>MEPeriod_pbo</th>\n",
       "      <th>trade_period</th>\n",
       "      <th>wire_date_remit</th>\n",
       "      <th>...</th>\n",
       "      <th>PBOSale_SalePassThru2</th>\n",
       "      <th>PBOSale_SaleDate</th>\n",
       "      <th>PBOSale_IntPaidToDate</th>\n",
       "      <th>me_tradeperiod_0</th>\n",
       "      <th>LoanType_2</th>\n",
       "      <th>path_pif</th>\n",
       "      <th>path_liq</th>\n",
       "      <th>investor_pbosale_vector_pivot</th>\n",
       "      <th>clean_and_current_4mo</th>\n",
       "      <th>clean_and_current_7mo</th>\n",
       "    </tr>\n",
       "  </thead>\n",
       "  <tbody>\n",
       "    <tr>\n",
       "      <th>0</th>\n",
       "      <td>10001549042203</td>\n",
       "      <td>202203</td>\n",
       "      <td>1000154904</td>\n",
       "      <td>NB</td>\n",
       "      <td>0.04</td>\n",
       "      <td>176416.66</td>\n",
       "      <td>0.5</td>\n",
       "      <td>202202</td>\n",
       "      <td>0</td>\n",
       "      <td>2022-03-15</td>\n",
       "      <td>...</td>\n",
       "      <td>0.04</td>\n",
       "      <td>2022-03-01</td>\n",
       "      <td>2021-11-01</td>\n",
       "      <td>202202</td>\n",
       "      <td>FHA</td>\n",
       "      <td>NULL</td>\n",
       "      <td>NULL</td>\n",
       "      <td>NB</td>\n",
       "      <td>0</td>\n",
       "      <td>0</td>\n",
       "    </tr>\n",
       "    <tr>\n",
       "      <th>1</th>\n",
       "      <td>10001549042203</td>\n",
       "      <td>202203</td>\n",
       "      <td>1000154904</td>\n",
       "      <td>NB</td>\n",
       "      <td>0.04</td>\n",
       "      <td>176416.66</td>\n",
       "      <td>0.5</td>\n",
       "      <td>202203</td>\n",
       "      <td>1</td>\n",
       "      <td>2022-04-15</td>\n",
       "      <td>...</td>\n",
       "      <td>NaN</td>\n",
       "      <td>None</td>\n",
       "      <td>None</td>\n",
       "      <td>None</td>\n",
       "      <td>None</td>\n",
       "      <td>NULL</td>\n",
       "      <td>NULL</td>\n",
       "      <td>NB</td>\n",
       "      <td>0</td>\n",
       "      <td>0</td>\n",
       "    </tr>\n",
       "    <tr>\n",
       "      <th>2</th>\n",
       "      <td>10001549042203</td>\n",
       "      <td>202203</td>\n",
       "      <td>1000154904</td>\n",
       "      <td>NB</td>\n",
       "      <td>0.04</td>\n",
       "      <td>176416.66</td>\n",
       "      <td>0.5</td>\n",
       "      <td>202204</td>\n",
       "      <td>2</td>\n",
       "      <td>2022-05-15</td>\n",
       "      <td>...</td>\n",
       "      <td>NaN</td>\n",
       "      <td>None</td>\n",
       "      <td>None</td>\n",
       "      <td>None</td>\n",
       "      <td>None</td>\n",
       "      <td>NULL</td>\n",
       "      <td>NULL</td>\n",
       "      <td>NB</td>\n",
       "      <td>0</td>\n",
       "      <td>0</td>\n",
       "    </tr>\n",
       "    <tr>\n",
       "      <th>3</th>\n",
       "      <td>10001549042203</td>\n",
       "      <td>202203</td>\n",
       "      <td>1000154904</td>\n",
       "      <td>NB</td>\n",
       "      <td>0.04</td>\n",
       "      <td>176416.66</td>\n",
       "      <td>0.5</td>\n",
       "      <td>202205</td>\n",
       "      <td>3</td>\n",
       "      <td>2022-06-15</td>\n",
       "      <td>...</td>\n",
       "      <td>NaN</td>\n",
       "      <td>None</td>\n",
       "      <td>None</td>\n",
       "      <td>None</td>\n",
       "      <td>None</td>\n",
       "      <td>NULL</td>\n",
       "      <td>NULL</td>\n",
       "      <td>NB</td>\n",
       "      <td>0</td>\n",
       "      <td>0</td>\n",
       "    </tr>\n",
       "    <tr>\n",
       "      <th>4</th>\n",
       "      <td>10001549042203</td>\n",
       "      <td>202203</td>\n",
       "      <td>1000154904</td>\n",
       "      <td>NB</td>\n",
       "      <td>0.04</td>\n",
       "      <td>176416.66</td>\n",
       "      <td>0.5</td>\n",
       "      <td>202206</td>\n",
       "      <td>4</td>\n",
       "      <td>2022-07-15</td>\n",
       "      <td>...</td>\n",
       "      <td>NaN</td>\n",
       "      <td>None</td>\n",
       "      <td>None</td>\n",
       "      <td>None</td>\n",
       "      <td>None</td>\n",
       "      <td>NULL</td>\n",
       "      <td>NULL</td>\n",
       "      <td>NB</td>\n",
       "      <td>0</td>\n",
       "      <td>0</td>\n",
       "    </tr>\n",
       "  </tbody>\n",
       "</table>\n",
       "<p>5 rows × 96 columns</p>\n",
       "</div>"
      ],
      "text/plain": [
       "     PrimeKey_pbo  SaleMonth      LoanId Investor_pbosale  \\\n",
       "0  10001549042203     202203  1000154904               NB   \n",
       "1  10001549042203     202203  1000154904               NB   \n",
       "2  10001549042203     202203  1000154904               NB   \n",
       "3  10001549042203     202203  1000154904               NB   \n",
       "4  10001549042203     202203  1000154904               NB   \n",
       "\n",
       "   PBOSale_SalePassThru  PBOSale_SaleUPB_Orig  GoSSplit_pbosale  MEPeriod_pbo  \\\n",
       "0                  0.04             176416.66               0.5        202202   \n",
       "1                  0.04             176416.66               0.5        202203   \n",
       "2                  0.04             176416.66               0.5        202204   \n",
       "3                  0.04             176416.66               0.5        202205   \n",
       "4                  0.04             176416.66               0.5        202206   \n",
       "\n",
       "   trade_period wire_date_remit  ... PBOSale_SalePassThru2 PBOSale_SaleDate  \\\n",
       "0             0      2022-03-15  ...                  0.04       2022-03-01   \n",
       "1             1      2022-04-15  ...                   NaN             None   \n",
       "2             2      2022-05-15  ...                   NaN             None   \n",
       "3             3      2022-06-15  ...                   NaN             None   \n",
       "4             4      2022-07-15  ...                   NaN             None   \n",
       "\n",
       "  PBOSale_IntPaidToDate me_tradeperiod_0 LoanType_2 path_pif  path_liq  \\\n",
       "0            2021-11-01           202202        FHA     NULL      NULL   \n",
       "1                  None             None       None     NULL      NULL   \n",
       "2                  None             None       None     NULL      NULL   \n",
       "3                  None             None       None     NULL      NULL   \n",
       "4                  None             None       None     NULL      NULL   \n",
       "\n",
       "   investor_pbosale_vector_pivot  clean_and_current_4mo  clean_and_current_7mo  \n",
       "0                             NB                      0                      0  \n",
       "1                             NB                      0                      0  \n",
       "2                             NB                      0                      0  \n",
       "3                             NB                      0                      0  \n",
       "4                             NB                      0                      0  \n",
       "\n",
       "[5 rows x 96 columns]"
      ]
     },
     "execution_count": 32,
     "metadata": {},
     "output_type": "execute_result"
    }
   ],
   "source": [
    "df_ebo.head()"
   ]
  },
  {
   "cell_type": "code",
   "execution_count": 33,
   "id": "ac0af248",
   "metadata": {},
   "outputs": [
    {
     "data": {
      "text/plain": [
       "PrimeKey_pbo                       int64\n",
       "SaleMonth                          int64\n",
       "LoanId                             int64\n",
       "Investor_pbosale                  object\n",
       "PBOSale_SalePassThru             float64\n",
       "                                  ...   \n",
       "path_pif                          object\n",
       "path_liq                          object\n",
       "investor_pbosale_vector_pivot     object\n",
       "clean_and_current_4mo              int64\n",
       "clean_and_current_7mo              int64\n",
       "Length: 96, dtype: object"
      ]
     },
     "execution_count": 33,
     "metadata": {},
     "output_type": "execute_result"
    }
   ],
   "source": [
    "df_ebo.dtypes"
   ]
  },
  {
   "cell_type": "code",
   "execution_count": 34,
   "id": "ede9950b",
   "metadata": {},
   "outputs": [],
   "source": [
    "# change YearMonth to int64 for merge step\n",
    "df_qrm.YearMonth = df_qrm.YearMonth.astype('int64')"
   ]
  },
  {
   "cell_type": "code",
   "execution_count": 35,
   "id": "d5ea7c08",
   "metadata": {},
   "outputs": [
    {
     "data": {
      "text/plain": [
       "Loan Number                         object\n",
       "Face Amount                        float64\n",
       "Issue Date Balance                 float64\n",
       "YearMonth                            int64\n",
       "Buy Price                          float64\n",
       "Shared Econ                          int64\n",
       "repurchase_date_calc                object\n",
       "investor_redelivery_premium_pct    float64\n",
       "investor_redelivery_premium_dlr    float64\n",
       "penny_redelivery_premium_pct       float64\n",
       "penny_redelivery_premium_dlr       float64\n",
       "Pool Num                            object\n",
       "Management                          object\n",
       "Pool Status                         object\n",
       "Type Dimension                      object\n",
       "Loan Type                           object\n",
       "settled date                        object\n",
       "settled price                      float64\n",
       "EBO_Investor                        object\n",
       "Path_Reperf                         object\n",
       "dtype: object"
      ]
     },
     "execution_count": 35,
     "metadata": {},
     "output_type": "execute_result"
    }
   ],
   "source": [
    "df_qrm.dtypes"
   ]
  },
  {
   "cell_type": "code",
   "execution_count": 36,
   "id": "b6d040e7",
   "metadata": {},
   "outputs": [],
   "source": [
    "df_qrm['Loan Number'] = df_qrm['Loan Number'].astype('int64')"
   ]
  },
  {
   "cell_type": "markdown",
   "id": "59257eda",
   "metadata": {},
   "source": [
    "## Merge Trade and QRM Redelivery Data"
   ]
  },
  {
   "cell_type": "code",
   "execution_count": 37,
   "id": "cde0e8a0",
   "metadata": {},
   "outputs": [],
   "source": [
    "# new_df = pd.merge(A_df, B_df,  how='left', left_on=['A_c1','c2'], right_on = ['B_c1','c2'])\n",
    "new_df = pd.merge(df_ebo, df_qrm,  how='left', left_on=['LoanId','MEPeriod_pbo'], right_on = ['Loan Number','YearMonth'])"
   ]
  },
  {
   "cell_type": "markdown",
   "id": "1b7e8756",
   "metadata": {},
   "source": [
    "## Merge Trade and QRM Historical Data"
   ]
  },
  {
   "cell_type": "code",
   "execution_count": 38,
   "id": "5b076efb",
   "metadata": {},
   "outputs": [
    {
     "data": {
      "text/plain": [
       "dtype('int64')"
      ]
     },
     "execution_count": 38,
     "metadata": {},
     "output_type": "execute_result"
    }
   ],
   "source": [
    "new_df.MEPeriod_pbo.dtype"
   ]
  },
  {
   "cell_type": "code",
   "execution_count": 39,
   "id": "cc0df4cd",
   "metadata": {},
   "outputs": [
    {
     "data": {
      "text/plain": [
       "dtype('int64')"
      ]
     },
     "execution_count": 39,
     "metadata": {},
     "output_type": "execute_result"
    }
   ],
   "source": [
    "df_qrm_market.meperiod_qrm_market.dtype"
   ]
  },
  {
   "cell_type": "code",
   "execution_count": 40,
   "id": "5902a942",
   "metadata": {},
   "outputs": [],
   "source": [
    "# df_qrm_market\n",
    "new_df = pd.merge(new_df, df_qrm_market, how='left', left_on=['MEPeriod_pbo'], right_on = ['meperiod_qrm_market'])"
   ]
  },
  {
   "cell_type": "markdown",
   "id": "0aa21695",
   "metadata": {},
   "source": [
    "### new_df Head, Columns, Dtypes, and Shape"
   ]
  },
  {
   "cell_type": "code",
   "execution_count": 41,
   "id": "5c60ca9c",
   "metadata": {
    "scrolled": true
   },
   "outputs": [
    {
     "data": {
      "text/html": [
       "<div>\n",
       "<style scoped>\n",
       "    .dataframe tbody tr th:only-of-type {\n",
       "        vertical-align: middle;\n",
       "    }\n",
       "\n",
       "    .dataframe tbody tr th {\n",
       "        vertical-align: top;\n",
       "    }\n",
       "\n",
       "    .dataframe thead th {\n",
       "        text-align: right;\n",
       "    }\n",
       "</style>\n",
       "<table border=\"1\" class=\"dataframe\">\n",
       "  <thead>\n",
       "    <tr style=\"text-align: right;\">\n",
       "      <th></th>\n",
       "      <th>PrimeKey_pbo</th>\n",
       "      <th>SaleMonth</th>\n",
       "      <th>LoanId</th>\n",
       "      <th>Investor_pbosale</th>\n",
       "      <th>PBOSale_SalePassThru</th>\n",
       "      <th>PBOSale_SaleUPB_Orig</th>\n",
       "      <th>GoSSplit_pbosale</th>\n",
       "      <th>MEPeriod_pbo</th>\n",
       "      <th>trade_period</th>\n",
       "      <th>wire_date_remit</th>\n",
       "      <th>...</th>\n",
       "      <th>qrm_GN30_40_px_eom</th>\n",
       "      <th>qrm_GN30_45_px_eom</th>\n",
       "      <th>qrm_GN30_50_px_eom</th>\n",
       "      <th>qrm_GN30_55_px_eom</th>\n",
       "      <th>qrm_GN30_60_px_eom</th>\n",
       "      <th>qrm_GN30_65_px_eom</th>\n",
       "      <th>qrm_GN30_70_px_eom</th>\n",
       "      <th>qrm_UST_10Y_px_eom</th>\n",
       "      <th>qrm_PMMS_px_eom</th>\n",
       "      <th>meperiod_qrm_market</th>\n",
       "    </tr>\n",
       "  </thead>\n",
       "  <tbody>\n",
       "    <tr>\n",
       "      <th>0</th>\n",
       "      <td>10001549042203</td>\n",
       "      <td>202203</td>\n",
       "      <td>1000154904</td>\n",
       "      <td>NB</td>\n",
       "      <td>0.04</td>\n",
       "      <td>176416.66</td>\n",
       "      <td>0.5</td>\n",
       "      <td>202202</td>\n",
       "      <td>0</td>\n",
       "      <td>2022-03-15</td>\n",
       "      <td>...</td>\n",
       "      <td>104.075997</td>\n",
       "      <td>104.767253</td>\n",
       "      <td>105.818539</td>\n",
       "      <td>0.000000</td>\n",
       "      <td>0.000000</td>\n",
       "      <td>0.0</td>\n",
       "      <td>0.0</td>\n",
       "      <td>1.842570</td>\n",
       "      <td>3.757634</td>\n",
       "      <td>202202</td>\n",
       "    </tr>\n",
       "    <tr>\n",
       "      <th>1</th>\n",
       "      <td>10001549042203</td>\n",
       "      <td>202203</td>\n",
       "      <td>1000154904</td>\n",
       "      <td>NB</td>\n",
       "      <td>0.04</td>\n",
       "      <td>176416.66</td>\n",
       "      <td>0.5</td>\n",
       "      <td>202203</td>\n",
       "      <td>1</td>\n",
       "      <td>2022-04-15</td>\n",
       "      <td>...</td>\n",
       "      <td>102.293935</td>\n",
       "      <td>103.770583</td>\n",
       "      <td>103.836304</td>\n",
       "      <td>0.000000</td>\n",
       "      <td>0.000000</td>\n",
       "      <td>0.0</td>\n",
       "      <td>0.0</td>\n",
       "      <td>2.327710</td>\n",
       "      <td>4.569074</td>\n",
       "      <td>202203</td>\n",
       "    </tr>\n",
       "    <tr>\n",
       "      <th>2</th>\n",
       "      <td>10001549042203</td>\n",
       "      <td>202203</td>\n",
       "      <td>1000154904</td>\n",
       "      <td>NB</td>\n",
       "      <td>0.04</td>\n",
       "      <td>176416.66</td>\n",
       "      <td>0.5</td>\n",
       "      <td>202204</td>\n",
       "      <td>2</td>\n",
       "      <td>2022-05-15</td>\n",
       "      <td>...</td>\n",
       "      <td>100.437188</td>\n",
       "      <td>102.307482</td>\n",
       "      <td>103.607178</td>\n",
       "      <td>103.607178</td>\n",
       "      <td>NaN</td>\n",
       "      <td>0.0</td>\n",
       "      <td>0.0</td>\n",
       "      <td>2.886340</td>\n",
       "      <td>5.139656</td>\n",
       "      <td>202204</td>\n",
       "    </tr>\n",
       "    <tr>\n",
       "      <th>3</th>\n",
       "      <td>10001549042203</td>\n",
       "      <td>202203</td>\n",
       "      <td>1000154904</td>\n",
       "      <td>NB</td>\n",
       "      <td>0.04</td>\n",
       "      <td>176416.66</td>\n",
       "      <td>0.5</td>\n",
       "      <td>202205</td>\n",
       "      <td>3</td>\n",
       "      <td>2022-06-15</td>\n",
       "      <td>...</td>\n",
       "      <td>101.211005</td>\n",
       "      <td>102.469217</td>\n",
       "      <td>103.533472</td>\n",
       "      <td>103.533472</td>\n",
       "      <td>103.533472</td>\n",
       "      <td>0.0</td>\n",
       "      <td>0.0</td>\n",
       "      <td>2.833471</td>\n",
       "      <td>5.088799</td>\n",
       "      <td>202205</td>\n",
       "    </tr>\n",
       "    <tr>\n",
       "      <th>4</th>\n",
       "      <td>10001549042203</td>\n",
       "      <td>202203</td>\n",
       "      <td>1000154904</td>\n",
       "      <td>NB</td>\n",
       "      <td>0.04</td>\n",
       "      <td>176416.66</td>\n",
       "      <td>0.5</td>\n",
       "      <td>202206</td>\n",
       "      <td>4</td>\n",
       "      <td>2022-07-15</td>\n",
       "      <td>...</td>\n",
       "      <td>99.832463</td>\n",
       "      <td>101.813462</td>\n",
       "      <td>102.821310</td>\n",
       "      <td>103.853298</td>\n",
       "      <td>102.821310</td>\n",
       "      <td>0.0</td>\n",
       "      <td>0.0</td>\n",
       "      <td>2.956478</td>\n",
       "      <td>5.550806</td>\n",
       "      <td>202206</td>\n",
       "    </tr>\n",
       "  </tbody>\n",
       "</table>\n",
       "<p>5 rows × 133 columns</p>\n",
       "</div>"
      ],
      "text/plain": [
       "     PrimeKey_pbo  SaleMonth      LoanId Investor_pbosale  \\\n",
       "0  10001549042203     202203  1000154904               NB   \n",
       "1  10001549042203     202203  1000154904               NB   \n",
       "2  10001549042203     202203  1000154904               NB   \n",
       "3  10001549042203     202203  1000154904               NB   \n",
       "4  10001549042203     202203  1000154904               NB   \n",
       "\n",
       "   PBOSale_SalePassThru  PBOSale_SaleUPB_Orig  GoSSplit_pbosale  MEPeriod_pbo  \\\n",
       "0                  0.04             176416.66               0.5        202202   \n",
       "1                  0.04             176416.66               0.5        202203   \n",
       "2                  0.04             176416.66               0.5        202204   \n",
       "3                  0.04             176416.66               0.5        202205   \n",
       "4                  0.04             176416.66               0.5        202206   \n",
       "\n",
       "   trade_period wire_date_remit  ... qrm_GN30_40_px_eom qrm_GN30_45_px_eom  \\\n",
       "0             0      2022-03-15  ...         104.075997         104.767253   \n",
       "1             1      2022-04-15  ...         102.293935         103.770583   \n",
       "2             2      2022-05-15  ...         100.437188         102.307482   \n",
       "3             3      2022-06-15  ...         101.211005         102.469217   \n",
       "4             4      2022-07-15  ...          99.832463         101.813462   \n",
       "\n",
       "  qrm_GN30_50_px_eom qrm_GN30_55_px_eom qrm_GN30_60_px_eom qrm_GN30_65_px_eom  \\\n",
       "0         105.818539           0.000000           0.000000                0.0   \n",
       "1         103.836304           0.000000           0.000000                0.0   \n",
       "2         103.607178         103.607178                NaN                0.0   \n",
       "3         103.533472         103.533472         103.533472                0.0   \n",
       "4         102.821310         103.853298         102.821310                0.0   \n",
       "\n",
       "   qrm_GN30_70_px_eom  qrm_UST_10Y_px_eom  qrm_PMMS_px_eom  \\\n",
       "0                 0.0            1.842570         3.757634   \n",
       "1                 0.0            2.327710         4.569074   \n",
       "2                 0.0            2.886340         5.139656   \n",
       "3                 0.0            2.833471         5.088799   \n",
       "4                 0.0            2.956478         5.550806   \n",
       "\n",
       "   meperiod_qrm_market  \n",
       "0               202202  \n",
       "1               202203  \n",
       "2               202204  \n",
       "3               202205  \n",
       "4               202206  \n",
       "\n",
       "[5 rows x 133 columns]"
      ]
     },
     "execution_count": 41,
     "metadata": {},
     "output_type": "execute_result"
    }
   ],
   "source": [
    "new_df.head()"
   ]
  },
  {
   "cell_type": "code",
   "execution_count": 42,
   "id": "29c8ad16",
   "metadata": {
    "scrolled": true
   },
   "outputs": [
    {
     "data": {
      "text/plain": [
       "Index(['PrimeKey_pbo', 'SaleMonth', 'LoanId', 'Investor_pbosale',\n",
       "       'PBOSale_SalePassThru', 'PBOSale_SaleUPB_Orig', 'GoSSplit_pbosale',\n",
       "       'MEPeriod_pbo', 'trade_period', 'wire_date_remit',\n",
       "       ...\n",
       "       'qrm_GN30_40_px_eom', 'qrm_GN30_45_px_eom', 'qrm_GN30_50_px_eom',\n",
       "       'qrm_GN30_55_px_eom', 'qrm_GN30_60_px_eom', 'qrm_GN30_65_px_eom',\n",
       "       'qrm_GN30_70_px_eom', 'qrm_UST_10Y_px_eom', 'qrm_PMMS_px_eom',\n",
       "       'meperiod_qrm_market'],\n",
       "      dtype='object', length=133)"
      ]
     },
     "execution_count": 42,
     "metadata": {},
     "output_type": "execute_result"
    }
   ],
   "source": [
    "new_df.columns"
   ]
  },
  {
   "cell_type": "code",
   "execution_count": 43,
   "id": "a9d18b81",
   "metadata": {},
   "outputs": [
    {
     "data": {
      "text/plain": [
       "PrimeKey_pbo              int64\n",
       "SaleMonth                 int64\n",
       "LoanId                    int64\n",
       "Investor_pbosale         object\n",
       "PBOSale_SalePassThru    float64\n",
       "                         ...   \n",
       "qrm_GN30_65_px_eom      float64\n",
       "qrm_GN30_70_px_eom      float64\n",
       "qrm_UST_10Y_px_eom      float64\n",
       "qrm_PMMS_px_eom         float64\n",
       "meperiod_qrm_market       int64\n",
       "Length: 133, dtype: object"
      ]
     },
     "execution_count": 43,
     "metadata": {},
     "output_type": "execute_result"
    }
   ],
   "source": [
    "new_df.dtypes"
   ]
  },
  {
   "cell_type": "code",
   "execution_count": 44,
   "id": "1cfa9bba",
   "metadata": {},
   "outputs": [
    {
     "data": {
      "text/plain": [
       "(13878, 133)"
      ]
     },
     "execution_count": 44,
     "metadata": {},
     "output_type": "execute_result"
    }
   ],
   "source": [
    "new_df.shape"
   ]
  },
  {
   "cell_type": "markdown",
   "id": "253d458d",
   "metadata": {},
   "source": [
    "## Export raw new_df (comment out if not needed)"
   ]
  },
  {
   "cell_type": "code",
   "execution_count": 45,
   "id": "b3f76cb4",
   "metadata": {},
   "outputs": [],
   "source": [
    "new_df.to_csv(f'C:\\\\Users\\\\{login}\\\\Desktop\\\\new_df_raw_{date_string}_202203SaleMonth.csv')"
   ]
  },
  {
   "cell_type": "markdown",
   "id": "6344a732",
   "metadata": {},
   "source": [
    "## Grab raw data from csv - Remove if already pulling SQL"
   ]
  },
  {
   "cell_type": "markdown",
   "id": "45bad231",
   "metadata": {},
   "source": [
    "## Grab raw data from csv"
   ]
  },
  {
   "cell_type": "code",
   "execution_count": 46,
   "id": "3b2ff62d",
   "metadata": {},
   "outputs": [],
   "source": [
    "# new_df = pd.read_csv(r'C:\\Users\\jboyce\\Desktop\\new_df_raw_20240718_202101SaleMonth.csv')\n",
    "# VVVV PENDING USE THIS VERSION ONCE TESTING DONE VVVV\n",
    "# new_df = pd.read_csv(f'C:\\\\Users\\\\{login}\\\\Desktop\\\\new_df_raw_{date_string}_202101SaleMonth.csv')"
   ]
  },
  {
   "cell_type": "code",
   "execution_count": 47,
   "id": "b5db5422",
   "metadata": {},
   "outputs": [],
   "source": [
    "# new_df=new_df.fillna(0)"
   ]
  },
  {
   "cell_type": "code",
   "execution_count": 48,
   "id": "125d94c8",
   "metadata": {},
   "outputs": [],
   "source": [
    "# new_df = new_df.loc[:, ~new_df.columns.str.contains('^Unnamed')]"
   ]
  },
  {
   "cell_type": "code",
   "execution_count": 49,
   "id": "28a920e9",
   "metadata": {},
   "outputs": [],
   "source": [
    "# new_df.head()"
   ]
  },
  {
   "cell_type": "code",
   "execution_count": 50,
   "id": "58951f04",
   "metadata": {},
   "outputs": [],
   "source": [
    "# new_df.shape"
   ]
  },
  {
   "cell_type": "code",
   "execution_count": 51,
   "id": "cf11ee73",
   "metadata": {},
   "outputs": [
    {
     "name": "stdout",
     "output_type": "stream",
     "text": [
      "['NB' 'MM' 'TO']\n"
     ]
    }
   ],
   "source": [
    "# print(np.unique(Investor_pbosale))\n",
    "print(new_df['Investor_pbosale'].unique())"
   ]
  },
  {
   "cell_type": "code",
   "execution_count": 52,
   "id": "335ae43c",
   "metadata": {},
   "outputs": [],
   "source": [
    "# FINAL COPY\n",
    "def remove_extra_periods_backup20221025(data, \n",
    "                         column_to_filter='PrimeKey', \n",
    "                         column_to_target='trade_period'):\n",
    "    \"\"\"\n",
    "    This function removes trade periods after loan is redelivered\n",
    "    dataframe: df to start\n",
    "    column_to_filter1: index-ish column to filter from (PrimeKey as default)\n",
    "    column_to_target: column that has the periods to remove (trade_period as default)\n",
    "    \"\"\"\n",
    "    \n",
    "    # get list of values from the filtering column\n",
    "    filter_list = data[column_to_filter].values\n",
    "    \n",
    "    # condense it to a unique list instead of repeating for each period\n",
    "    filter_list_unique = np.unique(filter_list)\n",
    "    \n",
    "    trade_period_list = []\n",
    "    \n",
    "    # cycle through each filter and remove the desired periods\n",
    "    for v in filter_list_unique:\n",
    "        trade_period_list = data.loc[(data[column_to_filter] == v) & (data['Management'] == 'EBO')][column_to_target].values\n",
    "        first_trade_period_0 = trade_period_list[0] # might have multiple redelivery periods. only need the 1st\n",
    "        \n",
    "        # delete data between these periods\n",
    "        data.drop(data.loc[(data[column_to_filter] == v) & \n",
    "                           (data[column_to_target] > first_trade_period_0)].index, \n",
    "                 inplace=True)\n",
    "        \n",
    "    return data"
   ]
  },
  {
   "cell_type": "markdown",
   "id": "3ee6df99",
   "metadata": {},
   "source": [
    "## Function - Remove Extra Periods"
   ]
  },
  {
   "cell_type": "code",
   "execution_count": 53,
   "id": "843f5ce1",
   "metadata": {},
   "outputs": [],
   "source": [
    "# FINAL COPY - TAKES TOO LONG\n",
    "def remove_extra_periods(data, \n",
    "                         column_to_filter='PrimeKey_pbo', \n",
    "                         column_to_target='trade_period'):\n",
    "    \"\"\"\n",
    "    This function removes trade periods after loan is redelivered\n",
    "    dataframe: df to start\n",
    "    column_to_filter1: index-ish column to filter from (PrimeKey as default)\n",
    "    column_to_target: column that has the periods to remove (trade_period as default)\n",
    "    \"\"\"\n",
    "    # attempting to fix \"IndexError: index 0 is out of bounds for axis 0 with size 0\"\n",
    "    # https://stackoverflow.com/questions/41492288/what-does-index-0-is-out-of-bounds-for-axis-0-with-size-0-mean\n",
    "    # looks like I need to add a try-except block to account for size 0\n",
    "\n",
    "    \n",
    "    # get list of values from the filtering column\n",
    "    filter_list = data[column_to_filter].values\n",
    "    \n",
    "    # condense it to a unique list instead of repeating for each period\n",
    "    filter_list_unique = np.unique(filter_list)\n",
    "    \n",
    "    trade_period_list = []\n",
    "    \n",
    "    # cycle through each filter and remove the desired periods\n",
    "    for v in filter_list_unique:\n",
    "        trade_period_list = data.loc[(data[column_to_filter] == v) & (data['Management'] == 'EBO')][column_to_target].values\n",
    "        \n",
    "        # check to see if loan was ever repurchased (list len >0)\n",
    "        if len(trade_period_list) >0:\n",
    "            # ADD BACK AFTER TEST\n",
    "            first_trade_period_0 = trade_period_list[0] # might have multiple redelivery periods. only need the 1st\n",
    "            data.drop(data.loc[(data[column_to_filter] == v)\n",
    "                               & (data[column_to_target] > first_trade_period_0)].index,\n",
    "                      inplace=True)\n",
    "        else:\n",
    "            pass\n",
    "            \n",
    "        \n",
    "        \n",
    "        # ADD CHECK FOR LEN FOR first_trade_period_0\n",
    "        # CHECK FOR EMPTY LIST\n",
    "        # print(first_trade_period_0) # test\n",
    "        # print(trade_period_list) # test\n",
    "        # print(len(trade_period_list)) # test\n",
    "        \n",
    "        # delete data between these periods\n",
    "        # ADD THIS BOTTOM SECTION BACK AFTER 0 SIZE TEST\n",
    "        # data.drop(data.loc[(data[column_to_filter] == v) & \n",
    "        #                   (data[column_to_target] > first_trade_period_0)].index, \n",
    "        #         inplace=True)\n",
    "        \n",
    "    return data"
   ]
  },
  {
   "cell_type": "markdown",
   "id": "7c5a7925",
   "metadata": {},
   "source": [
    "## Function - Filter Out Extra Periods"
   ]
  },
  {
   "cell_type": "code",
   "execution_count": 54,
   "id": "1c5d7186",
   "metadata": {},
   "outputs": [],
   "source": [
    "# FINAL COPY - MIGHT NOT BE NEEDED AFTER SQL FILTER UPDATE\n",
    "def filter_out_extra_periods(data, \n",
    "                         column_to_filter='PrimeKey_pbo', \n",
    "                         column_to_target='trade_period'):\n",
    "    \"\"\"\n",
    "    This function removes trade periods after loan is redelivered\n",
    "    dataframe: df to start\n",
    "    column_to_filter1: index-ish column to filter from (PrimeKey as default)\n",
    "    column_to_target: column that has the periods to remove (trade_period as default)\n",
    "    \"\"\"\n",
    "    # attempting to fix \"IndexError: index 0 is out of bounds for axis 0 with size 0\"\n",
    "    # https://stackoverflow.com/questions/41492288/what-does-index-0-is-out-of-bounds-for-axis-0-with-size-0-mean\n",
    "    # looks like I need to add a try-except block to account for size 0\n",
    "\n",
    "    \n",
    "    # get list of values from the filtering column\n",
    "    filter_list = data[column_to_filter].values\n",
    "    \n",
    "    # condense it to a unique list instead of repeating for each period\n",
    "    filter_list_unique = np.unique(filter_list)\n",
    "    \n",
    "    trade_period_list = []\n",
    "    data['trade_period_to_filter_out'] = 0\n",
    "    \n",
    "    # cycle through each filter and remove the desired periods\n",
    "    for v in filter_list_unique:\n",
    "        trade_period_list = data.loc[(data[column_to_filter] == v) & (data['Management'] == 'EBO')][column_to_target].values\n",
    "        \n",
    "        # check to see if loan was ever repurchased (list len >0)\n",
    "        if len(trade_period_list) >0:\n",
    "            # ADD BACK AFTER TEST\n",
    "            first_trade_period_0 = trade_period_list[0] # might have multiple redelivery periods. only need the 1st\n",
    "            # VVVV change this section to filter rather than drop\n",
    "            # data.drop(data.loc[(data[column_to_filter] == v)\n",
    "            #                    & (data[column_to_target] > first_trade_period_0)].index,\n",
    "            #           inplace=True)\n",
    "            # TRY - CREATE NEW COLUMN WITH 1s 0s (1s are trade periods > redelivery, filter new dataframe on 0)\n",
    "            # data['Documentation Type'] = np.where((data['DOCUMENT'] >1), 'Low / No Doc', 'Full')\n",
    "            # data['trade_period_to_filter_out'] = np.where((data[column_to_filter] == v) & (data[column_to_target] > first_trade_period_0), 1, 0)\n",
    "    \n",
    "        else:\n",
    "            pass\n",
    "\n",
    "    # filter out trade periods post-redelivery    \n",
    "    # need to bring this outside the loop\n",
    "    # might have to get the indexes for periods > redelivery\n",
    "    # vvvv OLD SOLUTION \n",
    "    data.loc[(data[column_to_filter] == v) &\n",
    "                            (data[column_to_target] > first_trade_period_0),\n",
    "                            'trade_period_to_filter_out'] = 1\n",
    "\n",
    "    data_filtered = data.loc[(data['trade_period_to_filter_out'] == 0)] # SettingWithCopyWarning\n",
    "    # ^^^^ OLD SOLUTION\n",
    "    # data.loc[\n",
    "    #     (data[column_to_filter] == v) & (data[column_to_target] > first_trade_period_0),\n",
    "    #     'trade_period_to_filter_out'\n",
    "    #     ] = 1\n",
    "\n",
    "    # data_filtered = data[(data['trade_period_to_filter_out'] == 0)]  # No need for .copy() now # this fixes the SettingWithCopyWarning\n",
    "        \n",
    "    return data_filtered"
   ]
  },
  {
   "cell_type": "markdown",
   "id": "8bed41a6",
   "metadata": {},
   "source": [
    "## Function - Get Min Redelivery-Eligible Period for PENDING Loans"
   ]
  },
  {
   "cell_type": "code",
   "execution_count": 55,
   "id": "bd49acbd",
   "metadata": {},
   "outputs": [],
   "source": [
    "# \n",
    "def get_min_pending_redelivery_eligible_period(data: pd.DataFrame, \n",
    "                         column_to_filter='PrimeKey_pbo', \n",
    "                         column_to_target='trade_period')->pd.DataFrame:\n",
    "    \"\"\"\n",
    "    This function gets the minimum redelivery eligible period for loans that were \n",
    "    originally flagged as PENDING in the path_final flag\n",
    "    \n",
    "    dataframe: df to start\n",
    "    column_to_filter1: index-ish column to filter from (PrimeKey as default)\n",
    "    column_to_target: column that has the periods to remove (trade_period as default)\n",
    "    \"\"\"\n",
    "    \n",
    "    # get list of values from the filtering column\n",
    "    filter_list = data[column_to_filter].values\n",
    "    \n",
    "    # condense it to a unique list instead of repeating for each period\n",
    "    filter_list_unique = np.unique(filter_list)\n",
    "    \n",
    "    trade_period_dict = {}\n",
    "    trade_period_list = []\n",
    "    data['trade_period_min_pending_redeliverable_flag'] = 0 # <<< PENDING update this column\n",
    "    \n",
    "    # cycle through each filter and remove the desired periods\n",
    "    for item in filter_list_unique:\n",
    "        # trade_period_list = data.loc[((data[column_to_filter] == v) & \n",
    "        trade_period_pending_detail = data.loc[((data[column_to_filter] == item) & \n",
    "                                      (data['path_final'] == 'PENDING') & \n",
    "                                    #   (data['redelivery_elig_flag'] == 1))][column_to_target].values # <<<< PENDING maybe add min filter here; check filter used in excel template\n",
    "                                      (data['redelivery_elig_flag'] == 1))][column_to_target].min()\n",
    "        \n",
    "        trade_period_dict.update({item: trade_period_pending_detail})\n",
    "\n",
    "        #  add filter for\n",
    "        # path_final = PENDING\n",
    "        # or maybe try just finding min trade period given primekey == primekey and path_final == pending and redelivery_eligible == 1\n",
    "        \n",
    "        # check to see if loan was ever repurchased (list len >0)\n",
    "        # if len(trade_period_list) >0:\n",
    "        #     # ADD BACK AFTER TEST\n",
    "        #     first_trade_period_0 = trade_period_list[0] # might have multiple redelivery periods. only need the 1st\n",
    "        # else:\n",
    "        #     pass\n",
    "\n",
    "    # filter out trade periods post-redelivery    \n",
    "    # need to bring this outside the loop\n",
    "    # might have to get the indexes for periods > redelivery\n",
    "    for i, (k, v) in enumerate(trade_period_dict.items()):\n",
    "        data.loc[(data['PrimeKey_pbo']==k) & (data['trade_period']==v), 'trade_period_min_pending_redeliverable_flag']=1 # might have to use np.where\n",
    "        # dataframe['terminal_path_flag'] = np.where(((dataframe['PrimeKey_pbo']==k) & (dataframe['trade_period']==v)),1,0)\n",
    "\n",
    "    # vvvv OLD SOLUTION     \n",
    "    # data.loc[(data[column_to_filter] == v) &\n",
    "    #                         (data[column_to_target] > first_trade_period_0),\n",
    "    #                         'trade_period_min_pending_redeliverable_flag'] = 1\n",
    "    # data_filtered = data\n",
    "        \n",
    "    return data"
   ]
  },
  {
   "cell_type": "code",
   "execution_count": 56,
   "id": "94484ae5",
   "metadata": {},
   "outputs": [],
   "source": [
    "# new_df.shape # shape before removing extra periods # (2112861, 103)"
   ]
  },
  {
   "cell_type": "code",
   "execution_count": 57,
   "id": "a2ed3ccc",
   "metadata": {},
   "outputs": [],
   "source": [
    "# new_df_filtered = filter_out_extra_periods(new_df) # UnboundLocalError: local variable 'first_trade_period_0' referenced before assignment\n",
    "# probably need to get first_trade_period_0 back in scope"
   ]
  },
  {
   "cell_type": "markdown",
   "id": "6402ac89",
   "metadata": {},
   "source": [
    "## Function - Days360"
   ]
  },
  {
   "cell_type": "code",
   "execution_count": 58,
   "id": "8b4cf6ed",
   "metadata": {},
   "outputs": [],
   "source": [
    "def days360Calc(start_date, end_date, method_eu=False):\n",
    "    import calendar\n",
    "#    start_day = x.year #maybe convert it to day string\n",
    "\n",
    "    start_day = start_date.day\n",
    "    start_month = start_date.month\n",
    "    start_year = start_date.year\n",
    "    end_day = end_date.day\n",
    "    end_month = end_date.month\n",
    "    end_year = end_date.year\n",
    "\n",
    "    if (\n",
    "        start_day == 31 or\n",
    "        (\n",
    "            method_eu is False and\n",
    "            start_month == 2 and (\n",
    "                start_day == 29 or (\n",
    "                    start_day == 28 and\n",
    "                    calendar.isleap(int(start_date.year)) is False # or calendar.isleap(year) or start_date.year.isleap() # was start_date.is_leap_year is False\n",
    "                )\n",
    "            )\n",
    "        )\n",
    "    ):\n",
    "        start_day = 30\n",
    "\n",
    "    if end_day == 31:\n",
    "        if method_eu is False and start_day != 30:\n",
    "            end_day = 1\n",
    "\n",
    "            if end_month == 12:\n",
    "                end_year += 1\n",
    "                end_month = 1\n",
    "            else:\n",
    "                end_month += 1\n",
    "        else:\n",
    "            end_day = 30\n",
    "\n",
    "    return (\n",
    "        end_day + end_month * 30 + end_year * 360 -\n",
    "        start_day - start_month * 30 - start_year * 360)\n"
   ]
  },
  {
   "cell_type": "code",
   "execution_count": 59,
   "id": "14413c9b",
   "metadata": {
    "scrolled": true
   },
   "outputs": [],
   "source": [
    "# df_test_trimmed['PBOSale_IntPaidToDate'] = pd.to_datetime(df_test_trimmed['PBOSale_IntPaidToDate'])"
   ]
  },
  {
   "cell_type": "code",
   "execution_count": 60,
   "id": "39c0988f",
   "metadata": {},
   "outputs": [],
   "source": [
    "# df_test_trimmed['PBOSale_SaleDate'] = df_test_trimmed['PBOSale_SaleDate'].apply(lambda x: pd.to_datetime(str(x),format='%Y%m%d'))"
   ]
  },
  {
   "cell_type": "code",
   "execution_count": 61,
   "id": "c1f9988e",
   "metadata": {},
   "outputs": [],
   "source": [
    "# df_test_trimmed['PBOSale_SaleDate'] = settle_date\n",
    "# NEED TO CONVERT SALE DATE FROM INT TO DATE"
   ]
  },
  {
   "cell_type": "code",
   "execution_count": 62,
   "id": "17cbafcd",
   "metadata": {},
   "outputs": [
    {
     "data": {
      "text/plain": [
       "\" df_test_trimmed['DAYS360_DAYS'] = df_test_trimmed.apply(\\n    lambda row: days360Calc(row['PBOSale_IntPaidToDate'], row['PBOSale_SaleDate']), \\n    axis=1)\""
      ]
     },
     "execution_count": 62,
     "metadata": {},
     "output_type": "execute_result"
    }
   ],
   "source": [
    "\"\"\" df_test_trimmed['DAYS360_DAYS'] = df_test_trimmed.apply(\n",
    "    lambda row: days360Calc(row['PBOSale_IntPaidToDate'], row['PBOSale_SaleDate']), \n",
    "    axis=1)\"\"\""
   ]
  },
  {
   "cell_type": "code",
   "execution_count": 63,
   "id": "417698ce",
   "metadata": {},
   "outputs": [
    {
     "data": {
      "text/plain": [
       "array([nan, 'NexBank', 'MassMutual', 'Toxaway', 'PNMAC'], dtype=object)"
      ]
     },
     "execution_count": 63,
     "metadata": {},
     "output_type": "execute_result"
    }
   ],
   "source": [
    "new_df.EBO_Investor_y.unique()"
   ]
  },
  {
   "cell_type": "code",
   "execution_count": 64,
   "id": "cd7b24ae",
   "metadata": {},
   "outputs": [
    {
     "data": {
      "text/plain": [
       "array([nan, 50.,  0.])"
      ]
     },
     "execution_count": 64,
     "metadata": {},
     "output_type": "execute_result"
    }
   ],
   "source": [
    "new_df['Shared Econ'].unique()"
   ]
  },
  {
   "cell_type": "markdown",
   "id": "f8f9dc73",
   "metadata": {},
   "source": [
    "## Filter Trade Populations for Analysis"
   ]
  },
  {
   "cell_type": "code",
   "execution_count": 65,
   "id": "cf6c4fd4",
   "metadata": {},
   "outputs": [],
   "source": [
    "# df_20220201_TO = new_df.loc[(new_df.Investor_pbosale.isin(['TO'])) & (new_df.SaleMonth.isin([202202]))]"
   ]
  },
  {
   "cell_type": "code",
   "execution_count": 66,
   "id": "de412a00",
   "metadata": {},
   "outputs": [],
   "source": [
    "# df_20220201_TO.head()"
   ]
  },
  {
   "cell_type": "code",
   "execution_count": 67,
   "id": "b722f7ef",
   "metadata": {},
   "outputs": [],
   "source": [
    "# df_20220201_TO.shape"
   ]
  },
  {
   "cell_type": "markdown",
   "id": "a7af05b3",
   "metadata": {},
   "source": [
    "## Consider creating FS function (e.g., datetime, days360, accrued interest, etc.)"
   ]
  },
  {
   "cell_type": "markdown",
   "id": "e6058f83",
   "metadata": {},
   "source": [
    "## PENDING - FILTER OUT UNNECESSARY TRADE PERIODS FROM CSV - FILTERED CSV"
   ]
  },
  {
   "cell_type": "code",
   "execution_count": 68,
   "id": "0078361c",
   "metadata": {},
   "outputs": [],
   "source": [
    "# new_df_filtered = remove_extra_periods_optimized(new_df)\n",
    "# new_df_filtered = filter_out_extra_periods(new_df)"
   ]
  },
  {
   "cell_type": "code",
   "execution_count": 69,
   "id": "80e51540",
   "metadata": {},
   "outputs": [],
   "source": [
    "# new_df_filtered.to_csv(r'C:\\Users\\jboyce\\Desktop\\new_df_filtered_20240618_202101SaleMonth.csv')"
   ]
  },
  {
   "cell_type": "code",
   "execution_count": 70,
   "id": "9588b728",
   "metadata": {},
   "outputs": [],
   "source": [
    "# new_df_filtered = pd.read_csv(r'C:\\Users\\jboyce\\Desktop\\new_df_filtered_20240618_202101SaleMonth.csv')"
   ]
  },
  {
   "cell_type": "code",
   "execution_count": 71,
   "id": "1967b072",
   "metadata": {},
   "outputs": [],
   "source": [
    "# new_df_filtered=new_df_filtered.fillna(0)"
   ]
  },
  {
   "cell_type": "code",
   "execution_count": 72,
   "id": "0b77e2e6",
   "metadata": {},
   "outputs": [],
   "source": [
    "# new_df_filtered = new_df_filtered.loc[:, ~new_df_filtered.columns.str.contains('^Unnamed')]"
   ]
  },
  {
   "cell_type": "code",
   "execution_count": 73,
   "id": "5cf4aab5",
   "metadata": {},
   "outputs": [],
   "source": [
    "# new_df_filtered.head()"
   ]
  },
  {
   "cell_type": "code",
   "execution_count": 74,
   "id": "515cec30",
   "metadata": {},
   "outputs": [],
   "source": [
    "# new_df_filtered.shape"
   ]
  },
  {
   "cell_type": "markdown",
   "id": "a10a28ea",
   "metadata": {},
   "source": [
    "## Function - Convert to Datetime"
   ]
  },
  {
   "cell_type": "code",
   "execution_count": 75,
   "id": "f3fb726f",
   "metadata": {},
   "outputs": [],
   "source": [
    "def convert_to_datetime(date_str):\n",
    "    try:\n",
    "        # First, handle the case where date_str is \"0.0\"\n",
    "        if date_str == '0.0':\n",
    "            return pd.NaT  # Return 'Not a Time'\n",
    "\n",
    "        # Then try the standard date formats\n",
    "        return pd.to_datetime(date_str, format='%Y-%m-%d %H:%M:%S')\n",
    "    except ValueError:\n",
    "        try:\n",
    "            return pd.to_datetime(date_str, format='%Y-%m-%d') \n",
    "        except ValueError:\n",
    "            return pd.NaT "
   ]
  },
  {
   "cell_type": "markdown",
   "id": "45bc1985",
   "metadata": {},
   "source": [
    "## Function - Set Final Path"
   ]
  },
  {
   "cell_type": "code",
   "execution_count": 76,
   "id": "c571b3cf",
   "metadata": {},
   "outputs": [],
   "source": [
    "def set_final_path(dataframe:pd.DataFrame) -> pd.DataFrame:\n",
    "    \"\"\" \n",
    "    This function sets the final EBO path for cures, mods, PIFs, FC, SSDIL\n",
    "    \"\"\"\n",
    "    # initiate lists to use\n",
    "    list_cure = []\n",
    "    list_mod = []\n",
    "    list_pif = []\n",
    "    list_fc = []\n",
    "    list_ssdil = []\n",
    "    \n",
    "    # get the unique keys for reperf, liq, and pif paths\n",
    "    list_cure = list(dataframe.loc[dataframe['Path_Reperf'].isin(['Cure'])]['PrimeKey_pbo'].values)\n",
    "    list_mod = list(dataframe.loc[dataframe['Path_Reperf'].isin(['Mod'])]['PrimeKey_pbo'].values)\n",
    "    list_pif = list(dataframe.loc[dataframe['path_pif'].isin(['PIF'])]['PrimeKey_pbo'].values)\n",
    "    list_fc = list(dataframe.loc[dataframe['path_liq'].isin(['FC'])]['PrimeKey_pbo'].values)\n",
    "    list_ssdil = list(dataframe.loc[dataframe['path_liq'].isin(['SSDIL'])]['PrimeKey_pbo'].values)\n",
    "\n",
    "    # set the path_final columms\n",
    "    # dataframe['path_final'] = 'PENDING'\n",
    "    dataframe['path_final'] = np.where(dataframe.PrimeKey_pbo.isin(list_cure), 'Cure',\n",
    "                                       np.where(dataframe.PrimeKey_pbo.isin(list_mod), 'Mod',\n",
    "                                       np.where(dataframe.PrimeKey_pbo.isin(list_pif), 'PIF',\n",
    "                                       np.where(dataframe.PrimeKey_pbo.isin(list_fc), 'FC',\n",
    "                                       np.where(dataframe.PrimeKey_pbo.isin(list_ssdil), 'SSDIL', 'PENDING'))))\n",
    "                                       )\n",
    "    \n",
    "    return dataframe"
   ]
  },
  {
   "cell_type": "markdown",
   "id": "953781b4",
   "metadata": {},
   "source": [
    "## Function - Set Final Path - Detailed"
   ]
  },
  {
   "cell_type": "code",
   "execution_count": 77,
   "id": "231b632e",
   "metadata": {},
   "outputs": [],
   "source": [
    "def set_final_path_detailed(dataframe:pd.DataFrame) -> pd.DataFrame:\n",
    "    \"\"\" \n",
    "    This function sets the final EBO path for cures, mods, PIFs, FC, SSDIL\n",
    "    \"\"\"\n",
    "    # initiate lists to use\n",
    "    list_cure = []\n",
    "    list_mod = []\n",
    "    list_pif = []\n",
    "    list_fc = []\n",
    "    list_ssdil = []\n",
    "    \n",
    "    # get the unique keys for reperf, liq, and pif paths\n",
    "    # list_cure = list(dataframe.loc[dataframe['Path_Reperf'].isin(['Cure'])]['PrimeKey_pbo'].values)\n",
    "    # list_mod = list(dataframe.loc[dataframe['Path_Reperf'].isin(['Mod'])]['PrimeKey_pbo'].values)\n",
    "    # list_pif = list(dataframe.loc[dataframe['path_pif'].isin(['PIF'])]['PrimeKey_pbo'].values)\n",
    "    # list_fc = list(dataframe.loc[dataframe['path_liq'].isin(['FC'])]['PrimeKey_pbo'].values)\n",
    "    # list_ssdil = list(dataframe.loc[dataframe['path_liq'].isin(['SSDIL'])]['PrimeKey_pbo'].values)\n",
    "    set_pending_eligible = set(dataframe.loc[(dataframe['trade_period_min_pending_redeliverable_flag'] ==1)]['PrimeKey_pbo'].values)\n",
    "    list_pending_eligible = list(set_pending_eligible)\n",
    "\n",
    "    # set the path_final columms\n",
    "    # dataframe['path_final_detailed'] = dataframe['path_final'] # might be able to skip this after using np.where\n",
    "    dataframe['path_final_detailed'] = np.where(dataframe['path_final'] =='Cure', 'Cure',\n",
    "                                       np.where(dataframe['path_final'] =='Mod', 'Mod',\n",
    "                                       np.where(dataframe['path_final'] =='PIF', 'PIF',\n",
    "                                       np.where(dataframe['path_final'] =='FC', 'FC',\n",
    "                                       np.where(dataframe['path_final'] =='SSDIL', 'SSDIL',\n",
    "                                       np.where(dataframe.PrimeKey_pbo.isin(list_pending_eligible), 'PENDING_REDELIVERABLE', 'PENDING_OTHER')))))\n",
    "                                       )\n",
    "    \n",
    "    return dataframe"
   ]
  },
  {
   "cell_type": "markdown",
   "id": "14d390e2",
   "metadata": {},
   "source": [
    "## Function - Get Max Trade Period"
   ]
  },
  {
   "cell_type": "code",
   "execution_count": 78,
   "id": "beff6e0a",
   "metadata": {},
   "outputs": [],
   "source": [
    "def get_max_trade_period(dataframe: pd.DataFrame)->pd.DataFrame:\n",
    "    primekey_list = list(dataframe['PrimeKey_pbo'].unique())\n",
    "\n",
    "    # initialize default values\n",
    "    primekey_terminal_period_dict = {}\n",
    "    dataframe['terminal_path_flag'] = 0\n",
    "\n",
    "    for item in primekey_list:\n",
    "        terminal_period = dataframe.loc[dataframe['PrimeKey_pbo']==item]['trade_period'].max()\n",
    "        primekey_terminal_period_dict.update({item: terminal_period})\n",
    "        # temp_df_prep_barings.loc[(temp_df_prep_barings['PrimeKey_pbo']==k) & (temp_df_prep_barings['PrimeKey_pbo']==terminal_period), 'trade_period']=1\n",
    "\n",
    "\n",
    "    for i, (k, v) in enumerate(primekey_terminal_period_dict.items()):\n",
    "        # temp_df_prep_barings.loc[(temp_df_prep_barings['PrimeKey_pbo']==k) & (temp_df_prep_barings['PrimeKey_pbo']==v), 'trade_period']=1\n",
    "        # print(i, k, v) # used this during testing\n",
    "        dataframe.loc[(dataframe['PrimeKey_pbo']==k) & (dataframe['trade_period']==v), 'terminal_path_flag']=1 # didn't work \n",
    "        # dataframe['terminal_path_flag'] = np.where(((dataframe['PrimeKey_pbo']==k) & (dataframe['trade_period']==v)),1,0)\n",
    "\n",
    "\n",
    "    return dataframe\n",
    "    "
   ]
  },
  {
   "cell_type": "code",
   "execution_count": 79,
   "id": "3b4385f5",
   "metadata": {},
   "outputs": [],
   "source": [
    "# df_test2 = data_test\n",
    "# df_test2 = set_final_path(df_test2)"
   ]
  },
  {
   "cell_type": "code",
   "execution_count": 80,
   "id": "821db65d",
   "metadata": {},
   "outputs": [],
   "source": [
    "# df_test2['path_final'].head()"
   ]
  },
  {
   "cell_type": "code",
   "execution_count": 81,
   "id": "6d0d7c85",
   "metadata": {},
   "outputs": [],
   "source": [
    "# quick_test = df_test2.loc[df_test2.PrimeKey_pbo.isin([10070485862105])]"
   ]
  },
  {
   "cell_type": "code",
   "execution_count": 82,
   "id": "6ae93502",
   "metadata": {},
   "outputs": [],
   "source": [
    "# quick_test.PBOSale_SaleDate.values"
   ]
  },
  {
   "cell_type": "code",
   "execution_count": 83,
   "id": "9957f02e",
   "metadata": {},
   "outputs": [],
   "source": [
    "# quick_test.PBOSale_SaleDate.dtype"
   ]
  },
  {
   "cell_type": "code",
   "execution_count": 84,
   "id": "cf60b2a1",
   "metadata": {},
   "outputs": [],
   "source": [
    "# pd.to_datetime(dataframe['PBOSale_IntPaidToDate'])\n",
    "# quick_test2 = quick_test"
   ]
  },
  {
   "cell_type": "code",
   "execution_count": 85,
   "id": "002d4149",
   "metadata": {},
   "outputs": [],
   "source": [
    "# quick_test2['test_saledate'] = pd.to_datetime(quick_test2['PBOSale_SaleDate'])"
   ]
  },
  {
   "cell_type": "code",
   "execution_count": 86,
   "id": "1c13e480",
   "metadata": {},
   "outputs": [],
   "source": [
    "# new_df['PBOSale_SaleDate'].unique"
   ]
  },
  {
   "cell_type": "code",
   "execution_count": 87,
   "id": "af94eb4e",
   "metadata": {},
   "outputs": [],
   "source": [
    "# quick_test2['PBOSale_SaleDate'].values"
   ]
  },
  {
   "cell_type": "code",
   "execution_count": 88,
   "id": "d092520d",
   "metadata": {},
   "outputs": [],
   "source": [
    "# quick_test2 = prep_all_cashflows(quick_test)"
   ]
  },
  {
   "cell_type": "code",
   "execution_count": 89,
   "id": "e24f7a32",
   "metadata": {},
   "outputs": [],
   "source": [
    "# quick_test2.PBOSale_SaleDate.values"
   ]
  },
  {
   "cell_type": "code",
   "execution_count": 90,
   "id": "43eeb157",
   "metadata": {},
   "outputs": [],
   "source": [
    "# print(new_df.loc[new_df['Path_Reperf'].isin(['Cure', 'Mod'])]['PrimeKey_pbo'].values)\n",
    "# print(new_df.loc[new_df['Path_Reperf'].isin(['Cure', 'Mod'])][['PrimeKey_pbo', 'Path_Reperf']].values)\n",
    "# print(new_df.loc[new_df.PrimeKey_pbo.isin([10002215992101, 10003567892101])][['PrimeKey_pbo', 'Path_Reperf', 'path_liq']].values)\n"
   ]
  },
  {
   "cell_type": "code",
   "execution_count": 91,
   "id": "6a6a5a8f",
   "metadata": {},
   "outputs": [],
   "source": [
    "# for values in unique PrimeKey_pbo\n",
    "# df_barings_20240714['PrimeKey_pbo'].unique()"
   ]
  },
  {
   "cell_type": "code",
   "execution_count": 92,
   "id": "acdfac69",
   "metadata": {},
   "outputs": [],
   "source": [
    "# for values in unique PrimeKey_pbo\n",
    "# print(df_barings_20240714['PrimeKey_pbo'].unique())"
   ]
  },
  {
   "cell_type": "code",
   "execution_count": 93,
   "id": "500936d6",
   "metadata": {},
   "outputs": [],
   "source": [
    "# for values in unique PrimeKey_pbo\n",
    "# temp_list = []\n",
    "# temp_list = df_barings_20240714['PrimeKey_pbo'].unique().tolist # not working\n",
    "# temp_list = list(df_barings_20240714['PrimeKey_pbo'].unique()) # this works"
   ]
  },
  {
   "cell_type": "code",
   "execution_count": 94,
   "id": "ab6e8d39",
   "metadata": {},
   "outputs": [],
   "source": [
    "# len(temp_list)"
   ]
  },
  {
   "cell_type": "markdown",
   "id": "1279ceea",
   "metadata": {},
   "source": [
    "## Function - Complete All Data Munging Steps and Cash Flows"
   ]
  },
  {
   "cell_type": "code",
   "execution_count": 124,
   "id": "a27f447f",
   "metadata": {},
   "outputs": [],
   "source": [
    "# ADD FUNCTION TO DO ALL DATA MUNGING\n",
    "# test to see if .function() will work\n",
    "def prep_all_cashflows(dataframe: pd.DataFrame)->pd.DataFrame:    \n",
    "    ## remove_extra_periods (function already created); remove_extra_periods(df_20200102_MM)\n",
    "    # PENDING CHANGE THIS TO THE FILTER FUNCTION (IT'S QUICKER)\n",
    "    dataframe = remove_extra_periods(dataframe) # TAKES TOO LONG\n",
    "    print('Filtering out post redelivery periods')\n",
    "    # dataframe = filter_out_extra_periods(dataframe) # <<<< FILTERING IN SQL DUE TO FILTERING GLITCHES\n",
    "    \n",
    "    ## Convert PBOSale_IntPaidToDate to datetime\n",
    "    dataframe['PBOSale_IntPaidToDate'] = pd.to_datetime(dataframe['PBOSale_IntPaidToDate'])\n",
    "\n",
    "\n",
    "    ## Convert PBOSale_SaleDate to datetime\n",
    "    # dataframe['PBOSale_SaleDate'] = dataframe['PBOSale_SaleDate'].apply(lambda x: pd.to_datetime(str(x),format='%Y%m%d'))\n",
    "    dataframe['PBOSale_SaleDate'] = pd.to_datetime(dataframe['PBOSale_SaleDate'])\n",
    "    # VVVV OLD SOLUTION\n",
    "    # dataframe['PBOSale_SaleDate'] = dataframe['PBOSale_SaleDate'].apply(\n",
    "    #     lambda x: pd.to_datetime(str(x).split()[0], format='%Y-%m-%d') # Split on space, take first part\n",
    "    #     ) # gemini version\n",
    "    # ^^^^ OLD SOLUTION\n",
    "    # VVVV revert back to this version that worked in the past?\n",
    "    # df_test_trimmed['PBOSale_SaleDate'] = df_test_trimmed['PBOSale_SaleDate'].apply(lambda x: pd.to_datetime(str(x),format='%Y%m%d'))\n",
    "    # dataframe['PBOSale_SaleDate'] = dataframe['PBOSale_SaleDate'].apply(convert_to_datetime) \n",
    "    # ^^^^ convert to datetime function might be causing errors\n",
    "\n",
    "    ## Calculate Days360 (function already created)\n",
    "    print('Calculating DAYS360 for accrued interest at settlement')\n",
    "    dataframe['DAYS360_DAYS'] = dataframe.apply(\n",
    "        lambda row: days360Calc(row['PBOSale_IntPaidToDate'], row['PBOSale_SaleDate']),\n",
    "        axis=1)\n",
    "    \n",
    "    ## Calculate Accrued Interest\n",
    "    dataframe['ACCRUED_INTEREST'] = round((dataframe['DAYS360_DAYS'] \n",
    "                                           * dataframe['PBOSale_SaleUPB'] \n",
    "                                           * dataframe['PBOSale_SalePassThru'] \n",
    "                                           / 360),2)\n",
    "\n",
    "\n",
    "    ## Calculate Investor Principal - Funding Schedule at Settlement\n",
    "    dataframe['orig_settle_fs_investor_principal'] = round((dataframe['PBOSale_Price'] \n",
    "                                                     * dataframe['PBOSale_SaleUPB']),2)\n",
    "\n",
    "    ## Calculate Investor Interest - Funding Schedule at Settlement\n",
    "    dataframe['orig_settle_fs_investor_interest'] = round(dataframe['ACCRUED_INTEREST'],2)\n",
    "\n",
    "    ## Calculate Pennymac Funding Schedule at Settlement\n",
    "    # vvvv OLD orig_settle_fs_penny LOGIC\n",
    "    # dataframe['orig_settle_fs_penny'] = round(((dataframe['PBOSale_Price'] - 1.0) \n",
    "    #                                            * dataframe['PBOSale_SaleUPB']),2)\n",
    "    # ^^^^ OLD orig_settle_fs_penny LOGIC\n",
    "    # vvvv NEW LOGIC\n",
    "    dataframe['orig_settle_fs_penny_principal'] = round((dataframe['PBOSale_Price'] \n",
    "                                                     * dataframe['PBOSale_SaleUPB']),2)\n",
    "\n",
    "    dataframe['orig_settle_fs_penny_interest'] = round(dataframe['ACCRUED_INTEREST'],2)\n",
    "    # ^^^^ NEW LOGIC\n",
    "\n",
    "    # Create Pennymac cash flows with signs\n",
    "    dataframe['penny_fs_principal_paidto_gnma'] = -dataframe['PBOSale_SaleUPB'] # paid to GNMA at settlement for buyout\n",
    "    dataframe['penny_fs_interest_paidto_gnma'] = -round(dataframe['ACCRUED_INTEREST'],2)\n",
    "    dataframe['penny_principal_paidto_investor'] = -dataframe['ia_total_SSEPrincipal']\n",
    "    dataframe['penny_netinterest_paidto_investor'] = -dataframe['ia_total_SSENetinterest']\n",
    "\n",
    "\n",
    "\n",
    "\n",
    "    print('Funding Schedule calcs completed')\n",
    "\n",
    "    ## Calculate Redelivery Fees\n",
    "    print('Setting redelivery fees and repurchase interest')\n",
    "    dataframe['redelivery_fee'] = 0\n",
    "    dataframe.loc[(dataframe['Buy Price'] > 100) & (dataframe['Shared Econ'] > 0), ['redelivery_fee']] = 300\n",
    "    dataframe.loc[(dataframe['Buy Price'] < 100) & (dataframe['Buy Price'] > 0) & (dataframe['EBO_Investor_y'] != 'Goldman'), ['redelivery_fee']] = 300\n",
    "    dataframe.loc[(dataframe['Buy Price'] > 100) & (dataframe['EBO_Investor_y'] == 'Goldman'), ['redelivery_fee']] = 150\n",
    "\n",
    "    ## Calculate Repurchase Par Amount\n",
    "    dataframe['investor_repurch_par_dlr'] = np.where((dataframe['Face Amount'])>0, dataframe['Face Amount'] * 1000, 0)\n",
    "    dataframe['penny_repurchase_par_amount'] = -dataframe['investor_repurch_par_dlr']\n",
    "    dataframe['penny_repurchase_px_x_repurch_amount'] = -dataframe['investor_repurch_par_dlr'] * dataframe['Buy Price'] / 100 # add penny repurchase px x upb\n",
    "\n",
    "    ## NEED TO ADD REPURCHASE INTEREST\n",
    "    # set InterestPaidToDt to datetime\n",
    "    dataframe['InterestPaidToDt'] = pd.to_datetime(dataframe['InterestPaidToDt'])\n",
    "\n",
    "    # set repurchase_date_calc to datetime\n",
    "    dataframe['repurchase_date_calc'] = pd.to_datetime(dataframe.loc[dataframe['repurchase_date_calc']!='0']['repurchase_date_calc'])\n",
    "\n",
    "    # calculate interest days\n",
    "    dataframe['repurchase_interest_days'] = np.where(dataframe['Management'] =='EBO', \n",
    "                                              dataframe.apply(\n",
    "                                                  lambda row: days360Calc(row['InterestPaidToDt'], row['repurchase_date_calc']),\n",
    "                                                  axis=1),\n",
    "                                                  0)\n",
    "\n",
    "    # calculate repurchase interest \n",
    "    dataframe['repurchase_interest'] = round((dataframe['repurchase_interest_days'] \n",
    "                                              * dataframe['Face Amount'] * 1000\n",
    "                                              * (dataframe['CurrentInterestRate'] - 0.0025) \n",
    "                                              / 360),2)\n",
    "    \n",
    "    dataframe['penny_repurchase_interest_paidto_investor'] = -dataframe['repurchase_interest'] # show penny payment of interest to investor\n",
    "\n",
    "    # add placeholder for penny redelivery into MBS; will likely apply once redirect script to more stable qrm table\n",
    "    dataframe['penny_redelivery_px_x_repurch_upb'] = -dataframe['penny_repurchase_px_x_repurch_amount'] # penny redelivery into MBS; placeholder until redirect script\n",
    "\n",
    "\n",
    "    # calculate \n",
    "\n",
    "    # ## FC SSDIL Remittance Liquidation Calculations \n",
    "\n",
    "\n",
    "    ## Calculate Pennymac PT Savings\n",
    "    # dataframe['penny_pt_savings'] = round(dataframe['CurrentMonthlyPaymentAmt'],2) # added into script\n",
    "    print('Calculating Penny PT savings')\n",
    "    # need to add filter to set to zero when loan reperforming\n",
    "    dataframe['penny_pt_savings_orig'] = round(dataframe['penny_pt_savings_orig'],2) # added to SQL script (PandI - Servicing Amount)\n",
    "\n",
    "    # net out any principal and interest payments paid to investor\n",
    "    dataframe['penny_pt_savings'] = (dataframe['penny_pt_savings_orig']\n",
    "                                     - dataframe['ia_total_SSEPrincipal']\n",
    "                                     - dataframe['ia_total_SSENetinterest']\n",
    "                                     )\n",
    "    \n",
    "    # OLD SOLUTION BEFORE FILTER\n",
    "    # vvvv dont zero out pt savings when current. Using different methodology for this portion\n",
    "    # dataframe['penny_pt_savings'] = np.where((dataframe['LoanStatusId'].isin(['P'])), # FILTER FOR PERFORMING LOANS\n",
    "    #                                          0,\n",
    "    #                                          round(dataframe['penny_pt_savings'],2))\n",
    "    # ^^^^ dont zero out pt savings when current. Using different methodology for this portion\n",
    "\n",
    "\n",
    "    # set the path_final columms\n",
    "    print('Setting final path')\n",
    "    dataframe = set_final_path(dataframe)\n",
    "\n",
    "    # Change sign of original settle numbers for charts downstream\n",
    "    print('Changing sign for Funding Schedule principal and interest')\n",
    "    dataframe['orig_settle_fs_investor_interest'] = dataframe['orig_settle_fs_investor_interest'] * -1\n",
    "    dataframe['orig_settle_fs_investor_principal'] = dataframe['orig_settle_fs_investor_principal'] * -1\n",
    "\n",
    "    # Get terminal path trade_period for each path\n",
    "    print('Getting max trade period')\n",
    "    dataframe = get_max_trade_period(dataframe)\n",
    "\n",
    "    # Get Original Trade UPB at Terminal UPB # \n",
    "    dataframe['terminal_path_orig_trade_upb'] = (dataframe['terminal_path_flag'] *\n",
    "                                                 dataframe['PBOSale_SaleUPB_Orig'])\n",
    "    \n",
    "    # Create terminal flag x UPB\n",
    "    dataframe['terminal_path_x_current_upb'] = (dataframe['terminal_path_flag'] *\n",
    "                                                 dataframe['CurrentPrincipalBalanceAmt'])\n",
    "    \n",
    "    # Create terminal flag x cumulative_principal_collected_ia\n",
    "    dataframe['terminal_path_flag_x_cum_prin_ia'] = (dataframe['terminal_path_flag'] *\n",
    "                                                 dataframe['cumulative_principal_collected_ia']) \n",
    "\n",
    "    # cumulative_interest_collected_ia  cumulative_netinterest_collected_ia cumulative_sfee_collected_ia                                            \n",
    "    dataframe['terminal_path_flag_x_cum_interest_ia'] = (dataframe['terminal_path_flag'] *\n",
    "                                                 dataframe['cumulative_interest_collected_ia']) \n",
    "    dataframe['terminal_path_flag_x_cum_net_interest_ia'] = (dataframe['terminal_path_flag'] *\n",
    "                                                 dataframe['cumulative_netinterest_collected_ia']) \n",
    "    dataframe['terminal_path_flag_x_cum_sfee_ia'] = (dataframe['terminal_path_flag'] *\n",
    "                                                 dataframe['cumulative_sfee_collected_ia']) \n",
    "\n",
    "    # Create terminal flag x DQ and x (DQ x terminal UPB)\n",
    "    dataframe['terminal_path_flag_x_dq_months'] = (dataframe['terminal_path_flag'] *\n",
    "                                                 dataframe['dq_months']) \n",
    "    dataframe['terminal_path_flag_x_dq_months_x_term_upb'] = (dataframe['terminal_path_x_current_upb'] *\n",
    "                                                 dataframe['terminal_path_flag_x_dq_months']) \n",
    "    \n",
    "    # Create terminal flag x PT and x (PT x terminal UPB)\n",
    "    dataframe['terminal_path_flag_x_mbs_pt_rate'] = (dataframe['terminal_path_flag'] *\n",
    "                                                 dataframe['mbs_pt_rate']) \n",
    "    dataframe['terminal_path_flag_x_mbs_pt_rate_x_term_upb'] = (dataframe['terminal_path_x_current_upb'] *\n",
    "                                                 dataframe['terminal_path_flag_x_mbs_pt_rate']) \n",
    "    \n",
    "    # Calculate total principal collected + redelivery par amount\n",
    "    dataframe['terminal_prin_collected_plus_redelivered_amount'] = (dataframe['terminal_path_flag_x_cum_prin_ia'] + \n",
    "                                                                    dataframe['investor_repurch_par_dlr'])\n",
    "    \n",
    "    # add clean_current_payments and loanstatus at terminal period (for pending loan exhibit)\n",
    "    dataframe['terminal_pending_cleanpay'] = np.where(((dataframe['terminal_path_flag']==1) & (dataframe['path_final']=='PENDING')),\n",
    "                                                       dataframe['clean_current_payments'], 0)\n",
    "\n",
    "    dataframe['terminal_pending_loanstatus'] = np.where(((dataframe['terminal_path_flag']==1) & (dataframe['path_final']=='PENDING')),\n",
    "                                                       dataframe['LoanStatusId'], 0)\n",
    "\n",
    "    # create the wire date to use based on normal remittance date vs repurchase date\n",
    "    # first we need to set PBOSale_SaleDate to date dtype from object; might have to do fillna first\n",
    "    # dataframe['PBOSale_SaleDate'] = dataframe['PBOSale_SaleDate'].fillna(0) \n",
    "    dataframe['PBOSale_SaleDate'] = pd.to_datetime(dataframe['PBOSale_SaleDate'])\n",
    "    dataframe['PBOSale_SaleDate'] = dataframe['PBOSale_SaleDate'].dt.strftime('%Y-%m-%d') # added this\n",
    "    # might have to do the same for the repurchase_date_calc and wire_date_remit\n",
    "    dataframe['repurchase_date_calc'] = pd.to_datetime(dataframe['repurchase_date_calc'])\n",
    "    dataframe['repurchase_date_calc'] = dataframe['repurchase_date_calc'].dt.strftime('%Y-%m-%d') \n",
    "    dataframe['wire_date_remit'] = pd.to_datetime(dataframe['wire_date_remit'])\n",
    "    dataframe['wire_date_remit'] = dataframe['wire_date_remit'].dt.strftime('%Y-%m-%d') \n",
    "\n",
    "\n",
    "    dataframe['wire_date_final'] = np.where(dataframe['trade_period'] == 0, dataframe['PBOSale_SaleDate'],\n",
    "                                            np.where((dataframe['path_final'].isin(['Cure','Mod']) & dataframe['terminal_path_flag'] == 1), \n",
    "                                                    dataframe['repurchase_date_calc'], dataframe['wire_date_remit'])\n",
    "                                                    )\n",
    "\n",
    "\n",
    "    # Create path_final_detail column for path_final == PENDING loans \n",
    "    # and set redelivery eligible path flag\n",
    "    dataframe = get_min_pending_redelivery_eligible_period(dataframe)\n",
    "\n",
    "\n",
    "    # use np.where to set the path_final_detail column\n",
    "    # find path_final function sent new flag when not PENDING, if PENDING 1 then PENDING REDELIVERABLE, ELSE PENDING OTHER\n",
    "    dataframe = set_final_path_detailed(dataframe)\n",
    "\n",
    "\n",
    "    # Set terminial detailed flag. This flag accounts for PENDING_REDELIVERABLE loans\n",
    "    dataframe['terminal_path_flag_detailed'] = np.where(dataframe['path_final_detailed'] =='PENDING_REDELIVERABLE', \n",
    "                                                        dataframe['trade_period_min_pending_redeliverable_flag'], \n",
    "                                                        dataframe['terminal_path_flag'])\n",
    "\n",
    "\n",
    "    # multiply terminal_path_flag_detailed x tradeupb and upb\n",
    "    # Create terminal flag x DQ and x (DQ x terminal UPB)\n",
    "    dataframe['terminal_path_flag_detailed_x_tradeupb'] = (dataframe['terminal_path_flag_detailed'] *\n",
    "                                                 dataframe['PBOSale_SaleUPB_Orig']) \n",
    "    dataframe['terminal_path_flag_detailed_x_upb'] = (dataframe['terminal_path_flag_detailed'] *\n",
    "                                                 dataframe['CurrentPrincipalBalanceAmt']) \n",
    "    \n",
    "\n",
    "    # For WAL, multiply terminal period (orig and detailed) times upb, terminal_path_x_current_upb, terminal_path_x_current_upb\n",
    "    dataframe['terminal_path_x_current_upb_x_trade_period'] = (dataframe['terminal_path_x_current_upb'] *\n",
    "                                                 dataframe['trade_period']) \n",
    "    dataframe['terminal_path_flag_detailed_x_upb_x_trade_period'] = (dataframe['terminal_path_flag_detailed_x_upb'] *\n",
    "                                                 dataframe['trade_period']) \n",
    "\n",
    "\n",
    "\n",
    "    # vvvv MOVED REMIT STUFF HERE vvvv\n",
    "    ## FC SSDIL Remittance Liquidation Calculations \n",
    "    print('Calculating FC remittance amounts')\n",
    "\n",
    "    dataframe['CurrentPrincipalBalanceAmt_next'] = pd.to_numeric(dataframe['CurrentPrincipalBalanceAmt_next'], errors='coerce')\n",
    "\n",
    "    # set remit dates to datetime\n",
    "    dataframe['remit_default_dt'] = pd.to_datetime(dataframe.loc[dataframe['remit_default_dt'].notnull()]['remit_default_dt'], errors='coerce')\n",
    "    dataframe['remit_MinTransactiondate'] = pd.to_datetime(dataframe.loc[dataframe['remit_MinTransactiondate'].notnull()]['remit_MinTransactiondate'], errors='coerce')\n",
    "    dataframe['remit_MaxTransactiondate'] = pd.to_datetime(dataframe.loc[dataframe['remit_MaxTransactiondate'].notnull()]['remit_MaxTransactiondate'], errors='coerce')\n",
    "    dataframe['remit_eom_TransactionDate'] = pd.to_datetime(dataframe.loc[dataframe['remit_eom_TransactionDate'].notnull()]['remit_eom_TransactionDate'], errors='coerce')\n",
    "\n",
    "    # handle NaN values for remit_days_split_interest and remit_days_default_dt otherwise calcs will yield NaN\n",
    "    # dataframe[['remit_days_split_interest', 'remit_days_default_dt']] = dataframe[['remit_days_split_interest', 'remit_days_default_dt']].fillna(0) # did not work when list. try individually\n",
    "    dataframe['remit_days_split_interest'] = dataframe['remit_days_split_interest'].fillna(0)\n",
    "    dataframe['remit_days_default_dt'] = dataframe['remit_days_default_dt'].fillna(0) \n",
    "    dataframe['FHA_DebentureRt'] = dataframe['FHA_DebentureRt'].fillna(0) \n",
    "    dataframe['ia_cumulative_total_interest_fc'] = dataframe['ia_cumulative_total_interest_fc'].fillna(0) \n",
    "    # might have to do this for FHA_DebentureRt\n",
    "\n",
    "    # vvvv OLD SOLUTION vvvv\n",
    "    # dataframe['remit_expected_claims_interest'] = np.where(((dataframe['LoanType'] =='FHA') & \n",
    "    # dataframe['remit_expected_claims_interest'] = np.where(((dataframe['LoanType'].isin(['FHA'])) & \n",
    "    #                                                         (dataframe['terminal_path_flag']==1) &\n",
    "    #                                                         (dataframe['LoanSubStatusId'].isin(['LSS', 'LDL', '3F', 'LFC', 'LU', 'LUS', 'LRS'])) & \n",
    "    #                                                         (dataframe['CurrentPrincipalBalanceAmt_next'] <1)), \n",
    "    #                                                        (dataframe['remit_upb_preliquidation'] * (dataframe['FHA_DebentureRt'] / 100) * dataframe['remit_days_split_interest'] / 365) + (dataframe['remit_expected_claims_upb'] * (dataframe['FHA_DebentureRt'] / 100) * dataframe['remit_days_default_dt'] / 365) - dataframe['ia_cumulative_total_interest_fc'],\n",
    "    #                                                        np.where(((dataframe['LoanType'].isin(['VA', 'USDA'])) & \n",
    "    #                                                                  (dataframe['terminal_path_flag']==1) &\n",
    "    #                                                                  (dataframe['LoanSubStatusId'].isin(['LSS', 'LDL', '3F', 'LFC', 'LU', 'LUS', 'LRS'])) & \n",
    "    #                                                                  (dataframe['CurrentPrincipalBalanceAmt_next'] <1)),\n",
    "    #                                                                 ((dataframe['remit_upb_preliquidation'] * (dataframe['CurrentInterestRate'] - 0.0025) * dataframe['remit_days_split_interest'] / 365) \n",
    "    #                                                                 + (dataframe['remit_days_split_interest'] * (dataframe['CurrentInterestRate'] - 0.0025) * dataframe['remit_days_default_dt'] / 365) \n",
    "    #                                                                 - dataframe['ia_cumulative_total_interest_fc']), \n",
    "    #                                                                 0)\n",
    "    #                                                                 )\n",
    "    # ^^^^ OLD SOLUTION ^^^^\n",
    "    # vvvv NEW SOLUTION vvvv\n",
    "    dataframe['remit_expected_claims_interest'] = np.where((dataframe['LoanType'].isin(['FHA'])),\n",
    "                                                 ((dataframe['remit_upb_preliquidation'] * (dataframe['FHA_DebentureRt'] / 100) * dataframe['remit_days_split_interest'] / 365) + \n",
    "                                                  (dataframe['remit_expected_claims_upb'] * (dataframe['FHA_DebentureRt'] / 100) * dataframe['remit_days_default_dt'] / 365) - \n",
    "                                                  dataframe['ia_cumulative_total_interest_fc']),\n",
    "                                                  ((dataframe['remit_upb_preliquidation'] * (dataframe['CurrentInterestRate'] - 0.0025) * dataframe['remit_days_split_interest'] / 365) + \n",
    "                                                   (dataframe['remit_expected_claims_upb'] * (dataframe['CurrentInterestRate'] - 0.0025) * dataframe['remit_days_default_dt'] / 365) - \n",
    "                                                   dataframe['ia_cumulative_total_interest_fc'])) # this works\n",
    "    \n",
    "    # clean up FC non-terminal periods\n",
    "    dataframe['remit_expected_claims_interest'] = dataframe['remit_expected_claims_interest'] * dataframe['terminal_path_flag']\n",
    "    dataframe['remit_expected_claims_upb'] = dataframe['remit_expected_claims_upb'] * dataframe['terminal_path_flag']\n",
    "    dataframe['remit_upb_preliquidation'] = dataframe['remit_upb_preliquidation'] * dataframe['terminal_path_flag']\n",
    "    dataframe['remit_sales_proceeds'] = dataframe['remit_sales_proceeds'] * dataframe['terminal_path_flag']\n",
    "    dataframe['remit_days_split_interest'] = dataframe['remit_days_split_interest'] * dataframe['terminal_path_flag']\n",
    "    dataframe['remit_days_default_dt'] = dataframe['remit_days_default_dt'] * dataframe['terminal_path_flag']\n",
    "\n",
    "    # add instance of interest paid in prior periods for use in FC remittance tie-out file\n",
    "    dataframe['remit_interest_paid_prior_periods'] = dataframe['ia_cumulative_total_interest_fc'] * dataframe['terminal_path_flag'] # ia_cumulative_total_interest_fc\n",
    "    # ^^^^ NEW SOLUTION ^^^^\n",
    "\n",
    "    dataframe['remit_total_due_investor'] = np.where(((dataframe['LoanSubStatusId'].isin(['LSS', 'LDL', '3F','FS', 'LFC', 'LU', 'LUS', 'LRS'])) & \n",
    "                                                      (dataframe['terminal_path_flag']==1) &\n",
    "                                                      (dataframe['CurrentPrincipalBalanceAmt_next'] <1)), \n",
    "                                                      (dataframe['remit_expected_claims_upb'] + dataframe['remit_expected_claims_interest']), \n",
    "                                                      0)\n",
    "    \n",
    "    # ADD REMOVAL OF FINAL PERIOD ia_total_sseprincipal and ia_total_sseNetinterest...also check fc version of those columns\n",
    "    # ^^^^ MOVED REMIT STUFF HERE ^^^^\n",
    "\n",
    "    # Check to see if total prin equals original trade upb\n",
    "    # add np.where or set column to zero then calc for non-pending loans\n",
    "    dataframe['terminal_total_prin_minus_origtradeupb'] = 0 # initialize the column. Prob\n",
    "    dataframe['terminal_total_prin_minus_origtradeupb'] = np.where(((dataframe['path_final'].isin(['Cure', 'Mod', 'PIF', 'FC', 'SSDIL'])) & (dataframe['terminal_path_flag']==1)),\n",
    "                                             (dataframe['terminal_prin_collected_plus_redelivered_amount'] - dataframe['terminal_path_orig_trade_upb']),0)\n",
    "    \n",
    "    # Allocate prin shortfalls to Pennymac for Cures and Mods initiate with zero values first\n",
    "    dataframe['penny_prin_from_shortfall'] = 0\n",
    "    dataframe['penny_prin_from_shortfall'] = np.where(((dataframe['path_final'].isin(['Cure', 'Mod'])) & \n",
    "                                                       (dataframe['terminal_path_flag']==1) & \n",
    "                                                       (dataframe['terminal_total_prin_minus_origtradeupb'] < 0)),\n",
    "                                             (dataframe['terminal_total_prin_minus_origtradeupb'] * (-1)),0) # need to change sign from negative to positive\n",
    "\n",
    "    \n",
    "    # Calculate Penny Debenture Rate Savings\n",
    "    print('Calculating Penny debrate savings')\n",
    "\n",
    "    # prep fields for calcs\n",
    "    # dataframe['FHA_DebentureRt'] = dataframe['FHA_DebentureRt'].fillna(0) \n",
    "\n",
    "    dataframe['penny_debrate_savings'] = np.where((dataframe['path_final'].isin(['FC', 'SSDIL'])) & (dataframe['terminal_path_flag']==1) & (dataframe['LoanType']=='FHA'), # FILTER FOR FHA\n",
    "                                            #  ((dataframe['CurrentInterestRate'] - 0.0025 - dataframe['FHA_DebentureRt']/100) * # PENDING - NEED TO UPDATE THIS WITH THE MBS PASS-THROUGH\n",
    "                                             ((dataframe['mbs_pt_rate'] - dataframe['FHA_DebentureRt'] / 100) * # <<< DONE - NEED TO UPDATE THIS WITH THE MBS PASS-THROUGH\n",
    "                                             ((dataframe['remit_days_split_interest'] + dataframe['remit_days_default_dt'] - 60) / 365) *\n",
    "                                             (dataframe['remit_upb_preliquidation'] + dataframe['remit_expected_claims_upb'])\n",
    "                                             ),0)\n",
    "    \n",
    "    # fill missing values\n",
    "    print('Filling na values')\n",
    "    dataframe = dataframe.fillna(0) # this fixes the null total column issue\n",
    "\n",
    "    # remove duplicates # had missing loans from trade TO 202203\n",
    "    print('\\nRemoving duplicate rows')\n",
    "    rows_before_removal = dataframe.shape[0]\n",
    "    print(f'\\tRows before removal: {rows_before_removal}')\n",
    "    dataframe = dataframe.drop_duplicates()\n",
    "    rows_after_removal = dataframe.shape[0]\n",
    "    print(f'\\tRows after removal: {rows_after_removal}')\n",
    "    print(f'\\tRows removed: {rows_before_removal - rows_after_removal}\\n')\n",
    "\n",
    "    ## Calculate Investor Total Cashflows\n",
    "    print('Calculating total cashflows')\n",
    "    dataframe['total_cashflows_investor'] = (dataframe['orig_settle_fs_investor_interest']\n",
    "                                             + dataframe['orig_settle_fs_investor_principal']\n",
    "                                             + dataframe['investor_redelivery_premium_dlr']\n",
    "                                             + dataframe['repurchase_interest']\n",
    "                                             + dataframe['ia_total_SSEPrincipal'] \n",
    "                                             + dataframe['ia_total_SSENetinterest'] \n",
    "                                             - dataframe['redelivery_fee']\n",
    "                                             + dataframe['investor_repurch_par_dlr']\n",
    "                                             + dataframe['remit_total_due_investor']\n",
    "                                             ) \n",
    "\n",
    "    # adjust for double-counting prin and net interest in last period by removing prin and net int \n",
    "    dataframe['total_cashflows_investor'] = np.where(((dataframe['LoanSubStatusId'].isin(['LSS', 'LDL', '3F','FS', 'LFC', 'LU', 'LUS', 'LRS'])) & \n",
    "                                                      (dataframe['terminal_path_flag']==1) &\n",
    "                                                      (dataframe['CurrentPrincipalBalanceAmt_next'] <1)), \n",
    "                                                      (dataframe['total_cashflows_investor'] \n",
    "                                                       - dataframe['ia_total_SSEPrincipal'] \n",
    "                                                       - dataframe['ia_total_SSENetinterest']\n",
    "                                                       ), \n",
    "                                                      dataframe['total_cashflows_investor'])\n",
    "\n",
    "\n",
    "    ## Calculate Pennymac Total Cashflows\n",
    "    dataframe['total_cashflows_penny'] = (dataframe['orig_settle_fs_penny_principal'] # replaced this term dataframe['orig_settle_fs_penny']\n",
    "                                          + dataframe['orig_settle_fs_penny_interest']\n",
    "                                          + dataframe['penny_fs_principal_paidto_gnma'] # principal paid to GNMA for buyout # negative number\n",
    "                                          + dataframe['penny_fs_interest_paidto_gnma'] # interest  paid to GNMA for buyout # negative number\n",
    "                                        #   + dataframe['penny_principal_paidto_investor'] # regular borrower principal payments # negative number # removed from cash flow, left for reference\n",
    "                                        #   + dataframe['penny_netinterest_paidto_investor'] # regular borrower interest payments net of sfee # negative number # removed from cash flow, left for reference\n",
    "                                          + dataframe['ia_total_SSEServiceFee']\n",
    "                                          # + (dataframe['penny_repurchase_par_amount'] * dataframe['Buy Price'] / 100) # <<<< PENDING double-check to see if shared econ affects buy price. I think it does # face amount paid to investor at repurchase # negative number\n",
    "                                          + dataframe['redelivery_fee']\n",
    "                                          + dataframe['penny_repurchase_px_x_repurch_amount'] # add penny repurchase px x upb pays to investor\n",
    "                                          + dataframe['penny_repurchase_interest_paidto_investor'] # per diem repurchase interest penny pays to investor; negative number\n",
    "                                          + dataframe['penny_redelivery_px_x_repurch_upb'] # penny redelivery into MBS; placeholder until redirect script\n",
    "                                          + dataframe['penny_redelivery_premium_dlr']\n",
    "                                          # - dataframe['investor_repurch_par_dlr'] # face amount paid to investor at repurchase\n",
    "                                        #   + dataframe['penny_pt_savings_orig'] # remove this since not an actual cash flow. Can use it to evaluate NPV for leaving in pool.\n",
    "                                          # <<<< PENDING add dataframe['penny_debrate_savings']\n",
    "                                          + dataframe['penny_debrate_savings']\n",
    "                                          + dataframe['penny_prin_from_shortfall'] # principal shortfall from late-month redelivery activity\n",
    "                                          ) # might have to add in liquidation cashflows depending on findings\n",
    "    \n",
    "    return dataframe"
   ]
  },
  {
   "cell_type": "markdown",
   "id": "f2837c83",
   "metadata": {},
   "source": [
    "## TESTING"
   ]
  },
  {
   "cell_type": "code",
   "execution_count": 96,
   "id": "a4250842",
   "metadata": {},
   "outputs": [],
   "source": [
    "# test1 = new_df.loc[(new_df['LoanId'].isin([8001288834]))]"
   ]
  },
  {
   "cell_type": "code",
   "execution_count": 97,
   "id": "b6effbcd",
   "metadata": {},
   "outputs": [],
   "source": [
    "# list of fc loans for test # '1000154904'\t,'1000170928'\t, '1000194906'\n",
    "# test_list = [1003769865, 1004135957, 1005054082, 1005125950, 8000020066, 8004613981, 8012329905, 8013181209, 8015663261, 8016776771, 8024023149, 8026897006, 8029400491, 8031198342, 1000949937, 8015920203, 8016866814, 8023525068, 8031723910]\n",
    "test_list = [1000154904, 1000170928, 1000194906]"
   ]
  },
  {
   "cell_type": "code",
   "execution_count": 98,
   "id": "568d4f12",
   "metadata": {},
   "outputs": [
    {
     "name": "stdout",
     "output_type": "stream",
     "text": [
      "[1000154904, 1000170928, 1000194906]\n"
     ]
    }
   ],
   "source": [
    "print(test_list)"
   ]
  },
  {
   "cell_type": "code",
   "execution_count": 99,
   "id": "8c386f17",
   "metadata": {},
   "outputs": [],
   "source": [
    "# test1 = new_df.loc[(new_df['LoanId'].isin(test_list))]\n",
    "# test_final = data_final.loc[(data_final['LoanId'].isin(test_list))]"
   ]
  },
  {
   "cell_type": "code",
   "execution_count": 100,
   "id": "e832ae08",
   "metadata": {},
   "outputs": [],
   "source": [
    "# test1.head()\n",
    "# test_final.head()"
   ]
  },
  {
   "cell_type": "code",
   "execution_count": 101,
   "id": "5086ef26",
   "metadata": {},
   "outputs": [],
   "source": [
    "# test_final = get_min_pending_redelivery_eligible_period(test_final)"
   ]
  },
  {
   "cell_type": "code",
   "execution_count": 102,
   "id": "0ba2661d",
   "metadata": {},
   "outputs": [],
   "source": [
    "# test wire_date_final\n",
    "# test_final['wire_date_final'] = np.where(test_final['trade_period'] == 0, test_final['PBOSale_SaleDate'],\n",
    "#                                          np.where((test_final['path_final'].isin(['Cure','Mod']) & test_final['terminal_path_flag'] == 1), \n",
    "#                                                   test_final['repurchase_date_calc'], test_final['wire_date_remit'])\n",
    "#                                                   )"
   ]
  },
  {
   "cell_type": "code",
   "execution_count": 103,
   "id": "103be83e",
   "metadata": {},
   "outputs": [],
   "source": [
    "# test_final.to_csv(f'C:\\\\Users\\\\{login}\\\\Desktop\\\\test_final_{date_string}_202203SaleMonth.csv', index=True, index_label='Index')"
   ]
  },
  {
   "cell_type": "code",
   "execution_count": 104,
   "id": "565feb16",
   "metadata": {},
   "outputs": [],
   "source": [
    "# print(set(test_final.loc[(test_final['trade_period_min_pending_redeliverable_flag'] ==1)]['PrimeKey_pbo'].values)) # {10001549042203}\n",
    "# print(list(test_final.loc[(test_final['trade_period_min_pending_redeliverable_flag'] ==1)]['PrimeKey_pbo'].values)) # [10001549042203]"
   ]
  },
  {
   "cell_type": "code",
   "execution_count": 105,
   "id": "80c635da",
   "metadata": {},
   "outputs": [],
   "source": [
    "# test_final2 = set_final_path_detailed(test_final)"
   ]
  },
  {
   "cell_type": "code",
   "execution_count": 106,
   "id": "fdb8b7f7",
   "metadata": {},
   "outputs": [],
   "source": [
    "# test_final2.to_csv(f'C:\\\\Users\\\\{login}\\\\Desktop\\\\test_final2_{date_string}_202203SaleMonth.csv', index=True, index_label='Index')"
   ]
  },
  {
   "cell_type": "code",
   "execution_count": 107,
   "id": "143fa2e9",
   "metadata": {},
   "outputs": [],
   "source": [
    "# test1['remit_expected_claims_interest'] = 0\n",
    "# test1['remit_expected_claims_interest'] = test1.loc[((test1['LoanType'].isin(['FHA'])) & \n",
    "#                                                      (test1['terminal_path_flag']==1) &\n",
    "#                                                      (test1['LoanSubStatusId'].isin(['LSS', 'LDL', '3F', 'LFC', 'LU', 'LUS', 'LRS'])) & \n",
    "#                                                      (test1['CurrentPrincipalBalanceAmt_next'] <1)), 'remit_expected_claims_interest'] = ((test1['remit_upb_preliquidation'] * (test1['FHA_DebentureRt'] / 100) * test1['remit_days_split_interest'] / 365) + \n",
    "#                                                                                                                                           (test1['remit_expected_claims_upb'] * (test1['FHA_DebentureRt'] / 100) * test1['remit_days_default_dt'] / 365) - \n",
    "#                                                                                                                                           test1['ia_cumulative_total_interest_fc'])\n",
    "                                                        # np.where(((test1['LoanType'].isin(['VA', 'USDA'])) & \n",
    "                                                        #             (test1['terminal_path_flag']==1) &\n",
    "                                                        #             (test1['LoanSubStatusId'].isin(['LSS', 'LDL', '3F', 'LFC', 'LU', 'LUS', 'LRS'])) & \n",
    "                                                        #             (test1['CurrentPrincipalBalanceAmt_next'] <1)),\n",
    "                                                        #         (test1['remit_upb_preliquidation'] * (test1['CurrentInterestRate'] - 0.0025) * test1['remit_days_split_interest'] / 365) \n",
    "                                                        #         + (test1['remit_days_split_interest'] * (test1['CurrentInterestRate'] - 0.0025) * test1['remit_days_default_dt'] / 365) \n",
    "                                                        #         - test1['ia_cumulative_total_interest_fc'], \n",
    "                                                        #         0)\n",
    "                                                        #         )\n"
   ]
  },
  {
   "cell_type": "code",
   "execution_count": 108,
   "id": "2de6eea0",
   "metadata": {},
   "outputs": [],
   "source": [
    "# test1.loc[test1['terminal_path_flag']==1]['remit_expected_claims_interest'].values\n",
    "# test1.loc[test1['terminal_path_flag']==1][['remit_default_dt', 'remit_MinTransactiondate', 'remit_MaxTransactiondate', 'remit_eom_TransactionDate','remit_expected_claims_interest']].values\n",
    "\n",
    "# vvvv this showed NaN for remit_days_split_interest and remit_days_default_dt\n",
    "# test1 is new_df not data_final though\n",
    "# test_final.loc[test_final['terminal_path_flag']==1][(['remit_default_dt', 'remit_MinTransactiondate', \n",
    "#                                             'remit_MaxTransactiondate', 'remit_eom_TransactionDate',\n",
    "#                                             'remit_expected_claims_interest', 'remit_days_split_interest', \n",
    "#                                             'remit_days_default_dt', 'remit_total_due_investor', 'ia_cumulative_total_interest_fc'])].head(19)"
   ]
  },
  {
   "cell_type": "code",
   "execution_count": 109,
   "id": "0e190fc0",
   "metadata": {},
   "outputs": [],
   "source": [
    "# test split interest calcs - this works for remit_upb_preliquidation and CurrentInterestRate and remit_days_default_dt\n",
    "# test_final['test_split_interest'] = test_final['remit_days_default_dt'] * test_final['CurrentInterestRate'] / 365 * test_final['remit_upb_preliquidation'] # works\n",
    "\n",
    "# add case for fha vs vs/usda\n",
    "# test_final['test_split_interest'] = np.where((test_final['LoanType'].isin(['FHA'])),\n",
    "#                                              ((test_final['remit_upb_preliquidation'] * (test_final['FHA_DebentureRt'] / 100) * test_final['remit_days_split_interest'] / 365) + \n",
    "#                                               (test_final['remit_expected_claims_upb'] * (test_final['FHA_DebentureRt'] / 100) * test_final['remit_days_default_dt'] / 365) - \n",
    "#                                               test_final['ia_cumulative_total_interest_fc']),\n",
    "#                                               ((test_final['remit_upb_preliquidation'] * (test_final['CurrentInterestRate'] - 0.0025) * test_final['remit_days_split_interest'] / 365) + \n",
    "#                                                (test_final['remit_days_split_interest'] * (test_final['CurrentInterestRate'] - 0.0025) * test_final['remit_days_default_dt'] / 365) - \n",
    "#                                                test_final['ia_cumulative_total_interest_fc'])) # this works"
   ]
  },
  {
   "cell_type": "code",
   "execution_count": 110,
   "id": "0573bd2a",
   "metadata": {},
   "outputs": [],
   "source": [
    "# just terminal period\n",
    "# test_final.loc[test_final['terminal_path_flag']==1][(['PrimeKey_pbo', 'LoanType', 'remit_expected_claims_interest', 'remit_days_split_interest', \n",
    "#                                             'remit_days_default_dt', 'remit_total_due_investor', 'test_split_interest'])].head(19)\n",
    "\n",
    "# all periods\n",
    "# test_final[(['PrimeKey_pbo', 'LoanType', 'trade_period', 'remit_expected_claims_interest', 'remit_days_split_interest', \n",
    "#              'remit_days_default_dt', 'remit_total_due_investor', 'test_split_interest'])].head(40)"
   ]
  },
  {
   "cell_type": "code",
   "execution_count": 111,
   "id": "0fe6c5bd",
   "metadata": {},
   "outputs": [],
   "source": [
    "# test1_final = prep_all_cashflows(new_df)"
   ]
  },
  {
   "cell_type": "code",
   "execution_count": 112,
   "id": "3b9885b0",
   "metadata": {},
   "outputs": [],
   "source": [
    "# test1_final.shape"
   ]
  },
  {
   "cell_type": "code",
   "execution_count": 113,
   "id": "cbf8e886",
   "metadata": {},
   "outputs": [],
   "source": [
    "# test_final.to_csv(f'C:\\\\Users\\\\{login}\\\\Desktop\\\\test_final_{date_string}_202203SaleMonth.csv', index=True, index_label='Index')"
   ]
  },
  {
   "cell_type": "code",
   "execution_count": 114,
   "id": "52b93cd8",
   "metadata": {},
   "outputs": [],
   "source": [
    "# test1 = new_df.copy()"
   ]
  },
  {
   "cell_type": "code",
   "execution_count": 115,
   "id": "0e671d8d",
   "metadata": {},
   "outputs": [],
   "source": [
    "# print(test1[['remit_default_dt', 'remit_MinTransactiondate', 'remit_MaxTransactiondate', 'remit_eom_TransactionDate']].dtypes)\n",
    "# print(test1[['remit_upb_preliquidation', 'FHA_DebentureRt', 'ia_cumulative_total_interest_fc']].dtypes)\n",
    "# print(test1.loc[test1['remit_default_dt']!=NaT]['remit_default_dt', 'remit_MinTransactiondate', 'remit_MaxTransactiondate', 'remit_eom_TransactionDate'].head())\n",
    "# print(new_df.loc[new_df['remit_default_dt'].notnull() ]['remit_default_dt'].head()) # this appears to work\n",
    "# test1[['remit_default_dt', 'remit_MinTransactiondate', 'remit_MaxTransactiondate', 'remit_eom_TransactionDate']] = pd.to_datetime(test1[test1['remit_default_dt'].notnull()]['remit_default_dt'][['remit_default_dt', 'remit_MinTransactiondate', 'remit_MaxTransactiondate', 'remit_eom_TransactionDate']], errors='coerce')\n",
    "# test1['remit_default_dt'] = pd.to_datetime(test1.loc[test1['remit_default_dt'].notnull()]['remit_default_dt'], errors='coerce')\n",
    "# test1['remit_default_dt'] = pd.to_datetime(test1.loc[test1['remit_default_dt'].notnull()]['remit_default_dt'], errors='coerce').strftime('%Y-%m-%d') # error\n",
    "# test1['remit_default_dt'] = pd.to_datetime(test1.loc[test1['remit_default_dt'].notnull()]['remit_default_dt'], errors='coerce').date()\n"
   ]
  },
  {
   "cell_type": "code",
   "execution_count": 116,
   "id": "73338b86",
   "metadata": {},
   "outputs": [],
   "source": [
    "# print(new_df.loc[new_df['remit_default_dt'].notnull() ]['remit_default_dt'].head()) # this appears to work\n",
    "# test1[['remit_default_dt', 'remit_MinTransactiondate', 'remit_MaxTransactiondate', 'remit_eom_TransactionDate']] = pd.to_datetime(test1[test1['remit_default_dt'].notnull()]['remit_default_dt'][['remit_default_dt', 'remit_MinTransactiondate', 'remit_MaxTransactiondate', 'remit_eom_TransactionDate']], errors='coerce')\n",
    "# test1['remit_MinTransactiondate'] = pd.to_datetime(test1.loc[test1['remit_MinTransactiondate'].notnull()]['remit_MinTransactiondate'], errors='coerce')\n"
   ]
  },
  {
   "cell_type": "code",
   "execution_count": 117,
   "id": "adce1144",
   "metadata": {},
   "outputs": [],
   "source": [
    "# print(new_df.loc[new_df['remit_default_dt'].notnull() ]['remit_default_dt'].head()) # this appears to work\n",
    "# test1[['remit_default_dt', 'remit_MinTransactiondate', 'remit_MaxTransactiondate', 'remit_eom_TransactionDate']] = pd.to_datetime(test1[test1['remit_default_dt'].notnull()]['remit_default_dt'][['remit_default_dt', 'remit_MinTransactiondate', 'remit_MaxTransactiondate', 'remit_eom_TransactionDate']], errors='coerce')\n",
    "# test1['remit_MaxTransactiondate'] = pd.to_datetime(test1.loc[test1['remit_MaxTransactiondate'].notnull()]['remit_MaxTransactiondate'], errors='coerce')"
   ]
  },
  {
   "cell_type": "code",
   "execution_count": 118,
   "id": "efce48da",
   "metadata": {},
   "outputs": [],
   "source": [
    "# print(new_df.loc[new_df['remit_default_dt'].notnull() ]['remit_default_dt'].head()) # this appears to work\n",
    "# test1[['remit_default_dt', 'remit_MinTransactiondate', 'remit_MaxTransactiondate', 'remit_eom_TransactionDate']] = pd.to_datetime(test1[test1['remit_default_dt'].notnull()]['remit_default_dt'][['remit_default_dt', 'remit_MinTransactiondate', 'remit_MaxTransactiondate', 'remit_eom_TransactionDate']], errors='coerce')\n",
    "# test1['remit_eom_TransactionDate'] = pd.to_datetime(test1.loc[test1['remit_eom_TransactionDate'].notnull()]['remit_eom_TransactionDate'], errors='coerce')"
   ]
  },
  {
   "cell_type": "code",
   "execution_count": 125,
   "id": "d3a0096e",
   "metadata": {},
   "outputs": [
    {
     "name": "stdout",
     "output_type": "stream",
     "text": [
      "Filtering out post redelivery periods\n",
      "Calculating DAYS360 for accrued interest at settlement\n",
      "Funding Schedule calcs completed\n",
      "Setting redelivery fees and repurchase interest\n",
      "Calculating Penny PT savings\n",
      "Setting final path\n",
      "Changing sign for Funding Schedule principal and interest\n",
      "Getting max trade period\n",
      "Calculating FC remittance amounts\n",
      "Calculating Penny debrate savings\n",
      "Filling na values\n",
      "\n",
      "Removing duplicate rows\n",
      "\tRows before removal: 13845\n",
      "\tRows after removal: 13842\n",
      "\tRows removed: 3\n",
      "\n",
      "Calculating total cashflows\n"
     ]
    }
   ],
   "source": [
    "data_final = prep_all_cashflows(new_df)"
   ]
  },
  {
   "cell_type": "code",
   "execution_count": 126,
   "id": "e8383fb2",
   "metadata": {},
   "outputs": [
    {
     "data": {
      "text/html": [
       "<div>\n",
       "<style scoped>\n",
       "    .dataframe tbody tr th:only-of-type {\n",
       "        vertical-align: middle;\n",
       "    }\n",
       "\n",
       "    .dataframe tbody tr th {\n",
       "        vertical-align: top;\n",
       "    }\n",
       "\n",
       "    .dataframe thead th {\n",
       "        text-align: right;\n",
       "    }\n",
       "</style>\n",
       "<table border=\"1\" class=\"dataframe\">\n",
       "  <thead>\n",
       "    <tr style=\"text-align: right;\">\n",
       "      <th></th>\n",
       "      <th>PrimeKey_pbo</th>\n",
       "      <th>SaleMonth</th>\n",
       "      <th>LoanId</th>\n",
       "      <th>Investor_pbosale</th>\n",
       "      <th>PBOSale_SalePassThru</th>\n",
       "      <th>PBOSale_SaleUPB_Orig</th>\n",
       "      <th>GoSSplit_pbosale</th>\n",
       "      <th>MEPeriod_pbo</th>\n",
       "      <th>trade_period</th>\n",
       "      <th>wire_date_remit</th>\n",
       "      <th>...</th>\n",
       "      <th>terminal_path_x_current_upb_x_trade_period</th>\n",
       "      <th>terminal_path_flag_detailed_x_upb_x_trade_period</th>\n",
       "      <th>remit_expected_claims_interest</th>\n",
       "      <th>remit_total_due_investor</th>\n",
       "      <th>terminal_total_prin_minus_origtradeupb</th>\n",
       "      <th>penny_prin_from_shortfall</th>\n",
       "      <th>penny_debrate_savings</th>\n",
       "      <th>remit_interest_paid_prior_periods</th>\n",
       "      <th>total_cashflows_investor</th>\n",
       "      <th>total_cashflows_penny</th>\n",
       "    </tr>\n",
       "  </thead>\n",
       "  <tbody>\n",
       "    <tr>\n",
       "      <th>0</th>\n",
       "      <td>10001549042203</td>\n",
       "      <td>202203</td>\n",
       "      <td>1000154904</td>\n",
       "      <td>NB</td>\n",
       "      <td>0.04</td>\n",
       "      <td>176416.66</td>\n",
       "      <td>0.5</td>\n",
       "      <td>202202</td>\n",
       "      <td>0</td>\n",
       "      <td>2022-03-15</td>\n",
       "      <td>...</td>\n",
       "      <td>0.0</td>\n",
       "      <td>0.0</td>\n",
       "      <td>0.0</td>\n",
       "      <td>0.0</td>\n",
       "      <td>0.0</td>\n",
       "      <td>0.0</td>\n",
       "      <td>0.0</td>\n",
       "      <td>0.0</td>\n",
       "      <td>-179201.98</td>\n",
       "      <td>433.1</td>\n",
       "    </tr>\n",
       "    <tr>\n",
       "      <th>1</th>\n",
       "      <td>10001549042203</td>\n",
       "      <td>202203</td>\n",
       "      <td>1000154904</td>\n",
       "      <td>NB</td>\n",
       "      <td>0.04</td>\n",
       "      <td>176416.66</td>\n",
       "      <td>0.5</td>\n",
       "      <td>202203</td>\n",
       "      <td>1</td>\n",
       "      <td>2022-04-15</td>\n",
       "      <td>...</td>\n",
       "      <td>0.0</td>\n",
       "      <td>0.0</td>\n",
       "      <td>0.0</td>\n",
       "      <td>0.0</td>\n",
       "      <td>0.0</td>\n",
       "      <td>0.0</td>\n",
       "      <td>0.0</td>\n",
       "      <td>0.0</td>\n",
       "      <td>0.00</td>\n",
       "      <td>0.0</td>\n",
       "    </tr>\n",
       "    <tr>\n",
       "      <th>2</th>\n",
       "      <td>10001549042203</td>\n",
       "      <td>202203</td>\n",
       "      <td>1000154904</td>\n",
       "      <td>NB</td>\n",
       "      <td>0.04</td>\n",
       "      <td>176416.66</td>\n",
       "      <td>0.5</td>\n",
       "      <td>202204</td>\n",
       "      <td>2</td>\n",
       "      <td>2022-05-15</td>\n",
       "      <td>...</td>\n",
       "      <td>0.0</td>\n",
       "      <td>0.0</td>\n",
       "      <td>0.0</td>\n",
       "      <td>0.0</td>\n",
       "      <td>0.0</td>\n",
       "      <td>0.0</td>\n",
       "      <td>0.0</td>\n",
       "      <td>0.0</td>\n",
       "      <td>0.00</td>\n",
       "      <td>0.0</td>\n",
       "    </tr>\n",
       "    <tr>\n",
       "      <th>3</th>\n",
       "      <td>10001549042203</td>\n",
       "      <td>202203</td>\n",
       "      <td>1000154904</td>\n",
       "      <td>NB</td>\n",
       "      <td>0.04</td>\n",
       "      <td>176416.66</td>\n",
       "      <td>0.5</td>\n",
       "      <td>202205</td>\n",
       "      <td>3</td>\n",
       "      <td>2022-06-15</td>\n",
       "      <td>...</td>\n",
       "      <td>0.0</td>\n",
       "      <td>0.0</td>\n",
       "      <td>0.0</td>\n",
       "      <td>0.0</td>\n",
       "      <td>0.0</td>\n",
       "      <td>0.0</td>\n",
       "      <td>0.0</td>\n",
       "      <td>0.0</td>\n",
       "      <td>0.00</td>\n",
       "      <td>0.0</td>\n",
       "    </tr>\n",
       "    <tr>\n",
       "      <th>4</th>\n",
       "      <td>10001549042203</td>\n",
       "      <td>202203</td>\n",
       "      <td>1000154904</td>\n",
       "      <td>NB</td>\n",
       "      <td>0.04</td>\n",
       "      <td>176416.66</td>\n",
       "      <td>0.5</td>\n",
       "      <td>202206</td>\n",
       "      <td>4</td>\n",
       "      <td>2022-07-15</td>\n",
       "      <td>...</td>\n",
       "      <td>0.0</td>\n",
       "      <td>0.0</td>\n",
       "      <td>0.0</td>\n",
       "      <td>0.0</td>\n",
       "      <td>0.0</td>\n",
       "      <td>0.0</td>\n",
       "      <td>0.0</td>\n",
       "      <td>0.0</td>\n",
       "      <td>0.00</td>\n",
       "      <td>0.0</td>\n",
       "    </tr>\n",
       "  </tbody>\n",
       "</table>\n",
       "<p>5 rows × 183 columns</p>\n",
       "</div>"
      ],
      "text/plain": [
       "     PrimeKey_pbo  SaleMonth      LoanId Investor_pbosale  \\\n",
       "0  10001549042203     202203  1000154904               NB   \n",
       "1  10001549042203     202203  1000154904               NB   \n",
       "2  10001549042203     202203  1000154904               NB   \n",
       "3  10001549042203     202203  1000154904               NB   \n",
       "4  10001549042203     202203  1000154904               NB   \n",
       "\n",
       "   PBOSale_SalePassThru  PBOSale_SaleUPB_Orig  GoSSplit_pbosale  MEPeriod_pbo  \\\n",
       "0                  0.04             176416.66               0.5        202202   \n",
       "1                  0.04             176416.66               0.5        202203   \n",
       "2                  0.04             176416.66               0.5        202204   \n",
       "3                  0.04             176416.66               0.5        202205   \n",
       "4                  0.04             176416.66               0.5        202206   \n",
       "\n",
       "   trade_period wire_date_remit  ...  \\\n",
       "0             0      2022-03-15  ...   \n",
       "1             1      2022-04-15  ...   \n",
       "2             2      2022-05-15  ...   \n",
       "3             3      2022-06-15  ...   \n",
       "4             4      2022-07-15  ...   \n",
       "\n",
       "  terminal_path_x_current_upb_x_trade_period  \\\n",
       "0                                        0.0   \n",
       "1                                        0.0   \n",
       "2                                        0.0   \n",
       "3                                        0.0   \n",
       "4                                        0.0   \n",
       "\n",
       "  terminal_path_flag_detailed_x_upb_x_trade_period  \\\n",
       "0                                              0.0   \n",
       "1                                              0.0   \n",
       "2                                              0.0   \n",
       "3                                              0.0   \n",
       "4                                              0.0   \n",
       "\n",
       "  remit_expected_claims_interest remit_total_due_investor  \\\n",
       "0                            0.0                      0.0   \n",
       "1                            0.0                      0.0   \n",
       "2                            0.0                      0.0   \n",
       "3                            0.0                      0.0   \n",
       "4                            0.0                      0.0   \n",
       "\n",
       "  terminal_total_prin_minus_origtradeupb penny_prin_from_shortfall  \\\n",
       "0                                    0.0                       0.0   \n",
       "1                                    0.0                       0.0   \n",
       "2                                    0.0                       0.0   \n",
       "3                                    0.0                       0.0   \n",
       "4                                    0.0                       0.0   \n",
       "\n",
       "   penny_debrate_savings  remit_interest_paid_prior_periods  \\\n",
       "0                    0.0                                0.0   \n",
       "1                    0.0                                0.0   \n",
       "2                    0.0                                0.0   \n",
       "3                    0.0                                0.0   \n",
       "4                    0.0                                0.0   \n",
       "\n",
       "   total_cashflows_investor  total_cashflows_penny  \n",
       "0                -179201.98                  433.1  \n",
       "1                      0.00                    0.0  \n",
       "2                      0.00                    0.0  \n",
       "3                      0.00                    0.0  \n",
       "4                      0.00                    0.0  \n",
       "\n",
       "[5 rows x 183 columns]"
      ]
     },
     "execution_count": 126,
     "metadata": {},
     "output_type": "execute_result"
    }
   ],
   "source": [
    "data_final.head()"
   ]
  },
  {
   "cell_type": "code",
   "execution_count": 127,
   "id": "bc18b51c",
   "metadata": {},
   "outputs": [],
   "source": [
    "# print(new_df.loc[new_df['remit_default_dt'] !=None]['remit_default_dt'].head()) # still printed Nones\n",
    "# print(new_df.loc[new_df['remit_default_dt'].notnull() ]['remit_default_dt'].head()) # this appears to work"
   ]
  },
  {
   "cell_type": "code",
   "execution_count": 128,
   "id": "4ab35339",
   "metadata": {},
   "outputs": [
    {
     "data": {
      "text/plain": [
       "(13842, 183)"
      ]
     },
     "execution_count": 128,
     "metadata": {},
     "output_type": "execute_result"
    }
   ],
   "source": [
    "data_final.shape"
   ]
  },
  {
   "cell_type": "markdown",
   "id": "93cb4f03",
   "metadata": {},
   "source": [
    "## Export Results"
   ]
  },
  {
   "cell_type": "code",
   "execution_count": 129,
   "id": "cea528f6",
   "metadata": {},
   "outputs": [],
   "source": [
    "data_final.to_csv(f'C:\\\\Users\\\\{login}\\\\Desktop\\\\data_final_{date_string}_202203SaleMonth.csv', index=True, index_label='Index')"
   ]
  },
  {
   "cell_type": "code",
   "execution_count": 135,
   "id": "9138792d",
   "metadata": {},
   "outputs": [
    {
     "name": "stdout",
     "output_type": "stream",
     "text": [
      "remit_days_split_interest    float64\n",
      "remit_days_default_dt        float64\n",
      "PBOSale_SaleDate              object\n",
      "wire_date_remit               object\n",
      "repurchase_date_calc          object\n",
      "dtype: object\n"
     ]
    }
   ],
   "source": [
    "print(data_final[['remit_days_split_interest', 'remit_days_default_dt', 'PBOSale_SaleDate', 'wire_date_remit', 'repurchase_date_calc']].dtypes)\n",
    "# print(new_df[['remit_days_split_interest', 'remit_days_default_dt']].dtypes)"
   ]
  },
  {
   "cell_type": "code",
   "execution_count": 123,
   "id": "627fc1c7",
   "metadata": {},
   "outputs": [
    {
     "name": "stdout",
     "output_type": "stream",
     "text": [
      "remit_default_dt             object\n",
      "remit_MinTransactiondate     object\n",
      "remit_MaxTransactiondate     object\n",
      "remit_eom_TransactionDate    object\n",
      "dtype: object\n"
     ]
    }
   ],
   "source": [
    "# check dtypes of final calc columns\n",
    "# print(data_final[['orig_settle_fs_investor_interest', 'orig_settle_fs_investor_principal', 'investor_redelivery_premium_dlr', 'repurchase_interest', 'ia_total_SSEPrincipal', 'ia_total_SSENetinterest', 'redelivery_fee', 'investor_repurch_par_dlr', 'remit_total_due_investor']].dtypes)\n",
    "print(data_final[['remit_default_dt', 'remit_MinTransactiondate', 'remit_MaxTransactiondate', 'remit_eom_TransactionDate']].dtypes)"
   ]
  },
  {
   "cell_type": "code",
   "execution_count": null,
   "id": "ed808ffa",
   "metadata": {},
   "outputs": [
    {
     "name": "stdout",
     "output_type": "stream",
     "text": [
      "orig_settle_fs_investor_interest     float64\n",
      "orig_settle_fs_investor_principal    float64\n",
      "investor_redelivery_premium_dlr      float64\n",
      "repurchase_interest                  float64\n",
      "ia_total_SSEPrincipal                float64\n",
      "ia_total_SSENetinterest              float64\n",
      "remit_expected_claims_interest       float64\n",
      "remit_expected_claims_upb            float64\n",
      "remit_total_due_investor             float64\n",
      "FHA_DebentureRt                      float64\n",
      "dtype: object\n"
     ]
    }
   ],
   "source": [
    "# check dtypes of final calc columns\n",
    "# print(data_final[['orig_settle_fs_investor_interest', 'orig_settle_fs_investor_principal', 'investor_redelivery_premium_dlr', 'repurchase_interest', 'ia_total_SSEPrincipal', 'ia_total_SSENetinterest', 'redelivery_fee', 'investor_repurch_par_dlr', 'remit_total_due_investor']].dtypes)\n",
    "print(data_final[['orig_settle_fs_investor_interest', 'orig_settle_fs_investor_principal', 'investor_redelivery_premium_dlr', 'repurchase_interest', 'ia_total_SSEPrincipal', 'ia_total_SSENetinterest', 'remit_expected_claims_interest', 'remit_expected_claims_upb', 'remit_total_due_investor', 'FHA_DebentureRt']].dtypes)"
   ]
  },
  {
   "cell_type": "code",
   "execution_count": 280,
   "id": "d666acca",
   "metadata": {},
   "outputs": [
    {
     "name": "stdout",
     "output_type": "stream",
     "text": [
      "path_final                    object\n",
      "terminal_path_flag             int64\n",
      "LoanType                      object\n",
      "CurrentInterestRate          float64\n",
      "FHA_DebentureRt              float64\n",
      "remit_days_split_interest    float64\n",
      "remit_days_default_dt        float64\n",
      "dtype: object\n"
     ]
    }
   ],
   "source": [
    "# check dtypes of penny_debrate_savings calc columns\n",
    "# print(data_final[['path_final', 'terminal_path_flag', 'LoanType', 'CurrentInterestRate', 'FHA_DebentureRt', 'remit_days_split_interest', 'remit_days_default_dt']].dtypes)"
   ]
  },
  {
   "cell_type": "markdown",
   "id": "55866422",
   "metadata": {},
   "source": [
    "## temp Data Final  (grab, fillna, remove unnamed, etc)"
   ]
  },
  {
   "cell_type": "code",
   "execution_count": 130,
   "id": "5de546b9",
   "metadata": {},
   "outputs": [
    {
     "name": "stderr",
     "output_type": "stream",
     "text": [
      "C:\\Users\\jboyce\\AppData\\Local\\Temp\\ipykernel_15016\\762277099.py:1: DtypeWarning: Columns (39,40,76) have mixed types. Specify dtype option on import or set low_memory=False.\n",
      "  data_final = pd.read_csv(r'C:\\Users\\jboyce\\Desktop\\data_filtered_202101SaleMonth_20240719_v0_calcd fields_filtered periods.csv')\n"
     ]
    }
   ],
   "source": [
    "data_final = pd.read_csv(r'C:\\Users\\jboyce\\Desktop\\data_filtered_202101SaleMonth_20240719_v0_calcd fields_filtered periods.csv')"
   ]
  },
  {
   "cell_type": "code",
   "execution_count": 131,
   "id": "9f33a46e",
   "metadata": {},
   "outputs": [],
   "source": [
    "data_final=data_final.fillna(0)"
   ]
  },
  {
   "cell_type": "code",
   "execution_count": 132,
   "id": "8751e9fe",
   "metadata": {},
   "outputs": [],
   "source": [
    "data_final = data_final.loc[:, ~data_final.columns.str.contains('^Unnamed')]"
   ]
  },
  {
   "cell_type": "code",
   "execution_count": 133,
   "id": "8ce13b75",
   "metadata": {},
   "outputs": [],
   "source": [
    "data_final = data_final.drop(columns=['Index'])"
   ]
  },
  {
   "cell_type": "code",
   "execution_count": 134,
   "id": "82589d3a",
   "metadata": {},
   "outputs": [
    {
     "data": {
      "text/html": [
       "<div>\n",
       "<style scoped>\n",
       "    .dataframe tbody tr th:only-of-type {\n",
       "        vertical-align: middle;\n",
       "    }\n",
       "\n",
       "    .dataframe tbody tr th {\n",
       "        vertical-align: top;\n",
       "    }\n",
       "\n",
       "    .dataframe thead th {\n",
       "        text-align: right;\n",
       "    }\n",
       "</style>\n",
       "<table border=\"1\" class=\"dataframe\">\n",
       "  <thead>\n",
       "    <tr style=\"text-align: right;\">\n",
       "      <th></th>\n",
       "      <th>PrimeKey_pbo</th>\n",
       "      <th>SaleMonth</th>\n",
       "      <th>LoanId</th>\n",
       "      <th>Investor_pbosale</th>\n",
       "      <th>PBOSale_SalePassThru</th>\n",
       "      <th>PBOSale_SaleUPB_Orig</th>\n",
       "      <th>GoSSplit_pbosale</th>\n",
       "      <th>MEPeriod_pbo</th>\n",
       "      <th>trade_period</th>\n",
       "      <th>InvestorId</th>\n",
       "      <th>...</th>\n",
       "      <th>orig_settle_fs_penny</th>\n",
       "      <th>redelivery_fee</th>\n",
       "      <th>investor_repurch_par_dlr</th>\n",
       "      <th>repurchase_interest_days</th>\n",
       "      <th>repurchase_interest</th>\n",
       "      <th>remit_expected_claims_interest</th>\n",
       "      <th>remit_total_due_investor</th>\n",
       "      <th>path_final</th>\n",
       "      <th>total_cashflows_investor</th>\n",
       "      <th>total_cashflows_penny</th>\n",
       "    </tr>\n",
       "  </thead>\n",
       "  <tbody>\n",
       "    <tr>\n",
       "      <th>0</th>\n",
       "      <td>10001825542101</td>\n",
       "      <td>202101</td>\n",
       "      <td>1000182554</td>\n",
       "      <td>MM</td>\n",
       "      <td>0.05</td>\n",
       "      <td>88870.46</td>\n",
       "      <td>0.0</td>\n",
       "      <td>202012</td>\n",
       "      <td>0</td>\n",
       "      <td>440</td>\n",
       "      <td>...</td>\n",
       "      <td>-1485.29</td>\n",
       "      <td>0</td>\n",
       "      <td>0.0</td>\n",
       "      <td>0</td>\n",
       "      <td>0.0</td>\n",
       "      <td>0.0</td>\n",
       "      <td>0.0</td>\n",
       "      <td>PIF</td>\n",
       "      <td>-89273.67</td>\n",
       "      <td>-917.16</td>\n",
       "    </tr>\n",
       "    <tr>\n",
       "      <th>1</th>\n",
       "      <td>10001825542101</td>\n",
       "      <td>202101</td>\n",
       "      <td>1000182554</td>\n",
       "      <td>MM</td>\n",
       "      <td>0.05</td>\n",
       "      <td>88870.46</td>\n",
       "      <td>0.0</td>\n",
       "      <td>202101</td>\n",
       "      <td>1</td>\n",
       "      <td>D01</td>\n",
       "      <td>...</td>\n",
       "      <td>-0.00</td>\n",
       "      <td>0</td>\n",
       "      <td>0.0</td>\n",
       "      <td>0</td>\n",
       "      <td>0.0</td>\n",
       "      <td>0.0</td>\n",
       "      <td>0.0</td>\n",
       "      <td>PIF</td>\n",
       "      <td>0.00</td>\n",
       "      <td>586.64</td>\n",
       "    </tr>\n",
       "    <tr>\n",
       "      <th>2</th>\n",
       "      <td>10001825542101</td>\n",
       "      <td>202101</td>\n",
       "      <td>1000182554</td>\n",
       "      <td>MM</td>\n",
       "      <td>0.05</td>\n",
       "      <td>88870.46</td>\n",
       "      <td>0.0</td>\n",
       "      <td>202102</td>\n",
       "      <td>2</td>\n",
       "      <td>D01</td>\n",
       "      <td>...</td>\n",
       "      <td>-0.00</td>\n",
       "      <td>0</td>\n",
       "      <td>0.0</td>\n",
       "      <td>0</td>\n",
       "      <td>0.0</td>\n",
       "      <td>0.0</td>\n",
       "      <td>0.0</td>\n",
       "      <td>PIF</td>\n",
       "      <td>0.00</td>\n",
       "      <td>586.64</td>\n",
       "    </tr>\n",
       "    <tr>\n",
       "      <th>3</th>\n",
       "      <td>10001825542101</td>\n",
       "      <td>202101</td>\n",
       "      <td>1000182554</td>\n",
       "      <td>MM</td>\n",
       "      <td>0.05</td>\n",
       "      <td>88870.46</td>\n",
       "      <td>0.0</td>\n",
       "      <td>202103</td>\n",
       "      <td>3</td>\n",
       "      <td>D01</td>\n",
       "      <td>...</td>\n",
       "      <td>-0.00</td>\n",
       "      <td>0</td>\n",
       "      <td>0.0</td>\n",
       "      <td>0</td>\n",
       "      <td>0.0</td>\n",
       "      <td>0.0</td>\n",
       "      <td>0.0</td>\n",
       "      <td>PIF</td>\n",
       "      <td>0.00</td>\n",
       "      <td>586.64</td>\n",
       "    </tr>\n",
       "    <tr>\n",
       "      <th>4</th>\n",
       "      <td>10001825542101</td>\n",
       "      <td>202101</td>\n",
       "      <td>1000182554</td>\n",
       "      <td>MM</td>\n",
       "      <td>0.05</td>\n",
       "      <td>88870.46</td>\n",
       "      <td>0.0</td>\n",
       "      <td>202104</td>\n",
       "      <td>4</td>\n",
       "      <td>D01</td>\n",
       "      <td>...</td>\n",
       "      <td>-0.00</td>\n",
       "      <td>0</td>\n",
       "      <td>0.0</td>\n",
       "      <td>0</td>\n",
       "      <td>0.0</td>\n",
       "      <td>0.0</td>\n",
       "      <td>0.0</td>\n",
       "      <td>PIF</td>\n",
       "      <td>0.00</td>\n",
       "      <td>586.64</td>\n",
       "    </tr>\n",
       "  </tbody>\n",
       "</table>\n",
       "<p>5 rows × 111 columns</p>\n",
       "</div>"
      ],
      "text/plain": [
       "     PrimeKey_pbo  SaleMonth      LoanId Investor_pbosale  \\\n",
       "0  10001825542101     202101  1000182554               MM   \n",
       "1  10001825542101     202101  1000182554               MM   \n",
       "2  10001825542101     202101  1000182554               MM   \n",
       "3  10001825542101     202101  1000182554               MM   \n",
       "4  10001825542101     202101  1000182554               MM   \n",
       "\n",
       "   PBOSale_SalePassThru  PBOSale_SaleUPB_Orig  GoSSplit_pbosale  MEPeriod_pbo  \\\n",
       "0                  0.05              88870.46               0.0        202012   \n",
       "1                  0.05              88870.46               0.0        202101   \n",
       "2                  0.05              88870.46               0.0        202102   \n",
       "3                  0.05              88870.46               0.0        202103   \n",
       "4                  0.05              88870.46               0.0        202104   \n",
       "\n",
       "   trade_period InvestorId  ... orig_settle_fs_penny redelivery_fee  \\\n",
       "0             0        440  ...             -1485.29              0   \n",
       "1             1        D01  ...                -0.00              0   \n",
       "2             2        D01  ...                -0.00              0   \n",
       "3             3        D01  ...                -0.00              0   \n",
       "4             4        D01  ...                -0.00              0   \n",
       "\n",
       "  investor_repurch_par_dlr repurchase_interest_days  repurchase_interest  \\\n",
       "0                      0.0                        0                  0.0   \n",
       "1                      0.0                        0                  0.0   \n",
       "2                      0.0                        0                  0.0   \n",
       "3                      0.0                        0                  0.0   \n",
       "4                      0.0                        0                  0.0   \n",
       "\n",
       "   remit_expected_claims_interest  remit_total_due_investor  path_final  \\\n",
       "0                             0.0                       0.0         PIF   \n",
       "1                             0.0                       0.0         PIF   \n",
       "2                             0.0                       0.0         PIF   \n",
       "3                             0.0                       0.0         PIF   \n",
       "4                             0.0                       0.0         PIF   \n",
       "\n",
       "   total_cashflows_investor  total_cashflows_penny  \n",
       "0                 -89273.67                -917.16  \n",
       "1                      0.00                 586.64  \n",
       "2                      0.00                 586.64  \n",
       "3                      0.00                 586.64  \n",
       "4                      0.00                 586.64  \n",
       "\n",
       "[5 rows x 111 columns]"
      ]
     },
     "execution_count": 134,
     "metadata": {},
     "output_type": "execute_result"
    }
   ],
   "source": [
    "data_final.head()"
   ]
  },
  {
   "cell_type": "code",
   "execution_count": 315,
   "id": "8e98a2e0",
   "metadata": {},
   "outputs": [],
   "source": [
    "temp_df_prep.to_csv(r'C:\\Users\\jboyce\\Desktop\\quicktest_20240718_calcd fields_removed periods.csv', index=True, index_label='Index')"
   ]
  },
  {
   "cell_type": "code",
   "execution_count": 316,
   "id": "aebc4d21",
   "metadata": {},
   "outputs": [],
   "source": [
    "temp_df_prep_barings = temp_df_prep.loc[temp_df_prep['Investor_pbosale'].isin(['TO', 'MM'])]"
   ]
  },
  {
   "cell_type": "code",
   "execution_count": 317,
   "id": "78ebd3e1",
   "metadata": {},
   "outputs": [],
   "source": [
    "temp_df_prep_barings.to_csv(r'C:\\Users\\jboyce\\Desktop\\quicktest_20240718_calcd fields_barings.csv', index=True, index_label='Index')"
   ]
  },
  {
   "cell_type": "code",
   "execution_count": 157,
   "id": "ab84ef3a",
   "metadata": {},
   "outputs": [],
   "source": [
    "test1 = new_df.loc[(new_df['LoanId'].isin([1007048586, 1000432405]))]\n"
   ]
  },
  {
   "cell_type": "code",
   "execution_count": 159,
   "id": "f6df2aae",
   "metadata": {},
   "outputs": [],
   "source": [
    "test1.to_excel(r'C:\\Users\\jboyce\\Desktop\\quicktest.xlsx', index=True, index_label='Index')"
   ]
  },
  {
   "cell_type": "code",
   "execution_count": 160,
   "id": "14551dfd",
   "metadata": {},
   "outputs": [
    {
     "data": {
      "text/plain": [
       "dtype('float64')"
      ]
     },
     "execution_count": 160,
     "metadata": {},
     "output_type": "execute_result"
    }
   ],
   "source": [
    "test1['CurrentPrincipalBalanceAmt_next'].dtype"
   ]
  },
  {
   "cell_type": "code",
   "execution_count": 199,
   "id": "ffedb46b",
   "metadata": {},
   "outputs": [
    {
     "data": {
      "text/html": [
       "<div>\n",
       "<style scoped>\n",
       "    .dataframe tbody tr th:only-of-type {\n",
       "        vertical-align: middle;\n",
       "    }\n",
       "\n",
       "    .dataframe tbody tr th {\n",
       "        vertical-align: top;\n",
       "    }\n",
       "\n",
       "    .dataframe thead th {\n",
       "        text-align: right;\n",
       "    }\n",
       "</style>\n",
       "<table border=\"1\" class=\"dataframe\">\n",
       "  <thead>\n",
       "    <tr style=\"text-align: right;\">\n",
       "      <th></th>\n",
       "      <th>PrimeKey_pbo</th>\n",
       "      <th>SaleMonth</th>\n",
       "      <th>LoanId</th>\n",
       "      <th>Investor_pbosale</th>\n",
       "      <th>PBOSale_SalePassThru</th>\n",
       "      <th>PBOSale_SaleUPB_Orig</th>\n",
       "      <th>GoSSplit_pbosale</th>\n",
       "      <th>MEPeriod_pbo</th>\n",
       "      <th>trade_period</th>\n",
       "      <th>InvestorId</th>\n",
       "      <th>...</th>\n",
       "      <th>penny_redelivery_premium_dlr</th>\n",
       "      <th>Pool Num</th>\n",
       "      <th>Management</th>\n",
       "      <th>Pool Status</th>\n",
       "      <th>Type Dimension</th>\n",
       "      <th>Loan Type</th>\n",
       "      <th>settled date</th>\n",
       "      <th>settled price</th>\n",
       "      <th>EBO_Investor_y</th>\n",
       "      <th>Path_Reperf</th>\n",
       "    </tr>\n",
       "  </thead>\n",
       "  <tbody>\n",
       "    <tr>\n",
       "      <th>0</th>\n",
       "      <td>10001825542101</td>\n",
       "      <td>202101</td>\n",
       "      <td>1000182554</td>\n",
       "      <td>MM</td>\n",
       "      <td>0.05</td>\n",
       "      <td>88870.46</td>\n",
       "      <td>NaN</td>\n",
       "      <td>202012</td>\n",
       "      <td>0</td>\n",
       "      <td>440</td>\n",
       "      <td>...</td>\n",
       "      <td>NaN</td>\n",
       "      <td>NaN</td>\n",
       "      <td>NaN</td>\n",
       "      <td>NaN</td>\n",
       "      <td>NaN</td>\n",
       "      <td>NaN</td>\n",
       "      <td>NaN</td>\n",
       "      <td>NaN</td>\n",
       "      <td>NaN</td>\n",
       "      <td>NaN</td>\n",
       "    </tr>\n",
       "    <tr>\n",
       "      <th>1</th>\n",
       "      <td>10001825542101</td>\n",
       "      <td>202101</td>\n",
       "      <td>1000182554</td>\n",
       "      <td>MM</td>\n",
       "      <td>0.05</td>\n",
       "      <td>88870.46</td>\n",
       "      <td>NaN</td>\n",
       "      <td>202101</td>\n",
       "      <td>1</td>\n",
       "      <td>D01</td>\n",
       "      <td>...</td>\n",
       "      <td>NaN</td>\n",
       "      <td>NaN</td>\n",
       "      <td>NaN</td>\n",
       "      <td>NaN</td>\n",
       "      <td>NaN</td>\n",
       "      <td>NaN</td>\n",
       "      <td>NaN</td>\n",
       "      <td>NaN</td>\n",
       "      <td>NaN</td>\n",
       "      <td>NaN</td>\n",
       "    </tr>\n",
       "    <tr>\n",
       "      <th>2</th>\n",
       "      <td>10001825542101</td>\n",
       "      <td>202101</td>\n",
       "      <td>1000182554</td>\n",
       "      <td>MM</td>\n",
       "      <td>0.05</td>\n",
       "      <td>88870.46</td>\n",
       "      <td>NaN</td>\n",
       "      <td>202102</td>\n",
       "      <td>2</td>\n",
       "      <td>D01</td>\n",
       "      <td>...</td>\n",
       "      <td>NaN</td>\n",
       "      <td>NaN</td>\n",
       "      <td>NaN</td>\n",
       "      <td>NaN</td>\n",
       "      <td>NaN</td>\n",
       "      <td>NaN</td>\n",
       "      <td>NaN</td>\n",
       "      <td>NaN</td>\n",
       "      <td>NaN</td>\n",
       "      <td>NaN</td>\n",
       "    </tr>\n",
       "    <tr>\n",
       "      <th>3</th>\n",
       "      <td>10001825542101</td>\n",
       "      <td>202101</td>\n",
       "      <td>1000182554</td>\n",
       "      <td>MM</td>\n",
       "      <td>0.05</td>\n",
       "      <td>88870.46</td>\n",
       "      <td>NaN</td>\n",
       "      <td>202103</td>\n",
       "      <td>3</td>\n",
       "      <td>D01</td>\n",
       "      <td>...</td>\n",
       "      <td>NaN</td>\n",
       "      <td>NaN</td>\n",
       "      <td>NaN</td>\n",
       "      <td>NaN</td>\n",
       "      <td>NaN</td>\n",
       "      <td>NaN</td>\n",
       "      <td>NaN</td>\n",
       "      <td>NaN</td>\n",
       "      <td>NaN</td>\n",
       "      <td>NaN</td>\n",
       "    </tr>\n",
       "    <tr>\n",
       "      <th>4</th>\n",
       "      <td>10001825542101</td>\n",
       "      <td>202101</td>\n",
       "      <td>1000182554</td>\n",
       "      <td>MM</td>\n",
       "      <td>0.05</td>\n",
       "      <td>88870.46</td>\n",
       "      <td>NaN</td>\n",
       "      <td>202104</td>\n",
       "      <td>4</td>\n",
       "      <td>D01</td>\n",
       "      <td>...</td>\n",
       "      <td>NaN</td>\n",
       "      <td>NaN</td>\n",
       "      <td>NaN</td>\n",
       "      <td>NaN</td>\n",
       "      <td>NaN</td>\n",
       "      <td>NaN</td>\n",
       "      <td>NaN</td>\n",
       "      <td>NaN</td>\n",
       "      <td>NaN</td>\n",
       "      <td>NaN</td>\n",
       "    </tr>\n",
       "  </tbody>\n",
       "</table>\n",
       "<p>5 rows × 96 columns</p>\n",
       "</div>"
      ],
      "text/plain": [
       "     PrimeKey_pbo  SaleMonth      LoanId Investor_pbosale  \\\n",
       "0  10001825542101     202101  1000182554               MM   \n",
       "1  10001825542101     202101  1000182554               MM   \n",
       "2  10001825542101     202101  1000182554               MM   \n",
       "3  10001825542101     202101  1000182554               MM   \n",
       "4  10001825542101     202101  1000182554               MM   \n",
       "\n",
       "   PBOSale_SalePassThru  PBOSale_SaleUPB_Orig  GoSSplit_pbosale  MEPeriod_pbo  \\\n",
       "0                  0.05              88870.46               NaN        202012   \n",
       "1                  0.05              88870.46               NaN        202101   \n",
       "2                  0.05              88870.46               NaN        202102   \n",
       "3                  0.05              88870.46               NaN        202103   \n",
       "4                  0.05              88870.46               NaN        202104   \n",
       "\n",
       "   trade_period InvestorId  ... penny_redelivery_premium_dlr Pool Num  \\\n",
       "0             0        440  ...                          NaN      NaN   \n",
       "1             1        D01  ...                          NaN      NaN   \n",
       "2             2        D01  ...                          NaN      NaN   \n",
       "3             3        D01  ...                          NaN      NaN   \n",
       "4             4        D01  ...                          NaN      NaN   \n",
       "\n",
       "  Management Pool Status Type Dimension  Loan Type  settled date  \\\n",
       "0        NaN         NaN            NaN        NaN           NaN   \n",
       "1        NaN         NaN            NaN        NaN           NaN   \n",
       "2        NaN         NaN            NaN        NaN           NaN   \n",
       "3        NaN         NaN            NaN        NaN           NaN   \n",
       "4        NaN         NaN            NaN        NaN           NaN   \n",
       "\n",
       "   settled price  EBO_Investor_y  Path_Reperf  \n",
       "0            NaN             NaN          NaN  \n",
       "1            NaN             NaN          NaN  \n",
       "2            NaN             NaN          NaN  \n",
       "3            NaN             NaN          NaN  \n",
       "4            NaN             NaN          NaN  \n",
       "\n",
       "[5 rows x 96 columns]"
      ]
     },
     "execution_count": 199,
     "metadata": {},
     "output_type": "execute_result"
    }
   ],
   "source": [
    "temp_df.head()"
   ]
  },
  {
   "cell_type": "code",
   "execution_count": 221,
   "id": "0ef2635f",
   "metadata": {},
   "outputs": [
    {
     "data": {
      "text/html": [
       "<div>\n",
       "<style scoped>\n",
       "    .dataframe tbody tr th:only-of-type {\n",
       "        vertical-align: middle;\n",
       "    }\n",
       "\n",
       "    .dataframe tbody tr th {\n",
       "        vertical-align: top;\n",
       "    }\n",
       "\n",
       "    .dataframe thead th {\n",
       "        text-align: right;\n",
       "    }\n",
       "</style>\n",
       "<table border=\"1\" class=\"dataframe\">\n",
       "  <thead>\n",
       "    <tr style=\"text-align: right;\">\n",
       "      <th></th>\n",
       "      <th>PrimeKey_pbo</th>\n",
       "      <th>SaleMonth</th>\n",
       "      <th>LoanId</th>\n",
       "      <th>Investor_pbosale</th>\n",
       "      <th>PBOSale_SalePassThru</th>\n",
       "      <th>PBOSale_SaleUPB_Orig</th>\n",
       "      <th>GoSSplit_pbosale</th>\n",
       "      <th>MEPeriod_pbo</th>\n",
       "      <th>trade_period</th>\n",
       "      <th>InvestorId</th>\n",
       "      <th>...</th>\n",
       "      <th>Management</th>\n",
       "      <th>Pool Status</th>\n",
       "      <th>Type Dimension</th>\n",
       "      <th>Loan Type</th>\n",
       "      <th>settled date</th>\n",
       "      <th>settled price</th>\n",
       "      <th>EBO_Investor_y</th>\n",
       "      <th>Path_Reperf</th>\n",
       "      <th>remit_expected_claims_interest</th>\n",
       "      <th>test_column</th>\n",
       "    </tr>\n",
       "  </thead>\n",
       "  <tbody>\n",
       "    <tr>\n",
       "      <th>0</th>\n",
       "      <td>10001825542101</td>\n",
       "      <td>202101</td>\n",
       "      <td>1000182554</td>\n",
       "      <td>MM</td>\n",
       "      <td>0.05</td>\n",
       "      <td>88870.46</td>\n",
       "      <td>NaN</td>\n",
       "      <td>202012</td>\n",
       "      <td>0</td>\n",
       "      <td>440</td>\n",
       "      <td>...</td>\n",
       "      <td>NaN</td>\n",
       "      <td>NaN</td>\n",
       "      <td>NaN</td>\n",
       "      <td>NaN</td>\n",
       "      <td>NaN</td>\n",
       "      <td>NaN</td>\n",
       "      <td>NaN</td>\n",
       "      <td>NaN</td>\n",
       "      <td>1</td>\n",
       "      <td>1</td>\n",
       "    </tr>\n",
       "    <tr>\n",
       "      <th>1</th>\n",
       "      <td>10001825542101</td>\n",
       "      <td>202101</td>\n",
       "      <td>1000182554</td>\n",
       "      <td>MM</td>\n",
       "      <td>0.05</td>\n",
       "      <td>88870.46</td>\n",
       "      <td>NaN</td>\n",
       "      <td>202101</td>\n",
       "      <td>1</td>\n",
       "      <td>D01</td>\n",
       "      <td>...</td>\n",
       "      <td>NaN</td>\n",
       "      <td>NaN</td>\n",
       "      <td>NaN</td>\n",
       "      <td>NaN</td>\n",
       "      <td>NaN</td>\n",
       "      <td>NaN</td>\n",
       "      <td>NaN</td>\n",
       "      <td>NaN</td>\n",
       "      <td>1</td>\n",
       "      <td>1</td>\n",
       "    </tr>\n",
       "    <tr>\n",
       "      <th>2</th>\n",
       "      <td>10001825542101</td>\n",
       "      <td>202101</td>\n",
       "      <td>1000182554</td>\n",
       "      <td>MM</td>\n",
       "      <td>0.05</td>\n",
       "      <td>88870.46</td>\n",
       "      <td>NaN</td>\n",
       "      <td>202102</td>\n",
       "      <td>2</td>\n",
       "      <td>D01</td>\n",
       "      <td>...</td>\n",
       "      <td>NaN</td>\n",
       "      <td>NaN</td>\n",
       "      <td>NaN</td>\n",
       "      <td>NaN</td>\n",
       "      <td>NaN</td>\n",
       "      <td>NaN</td>\n",
       "      <td>NaN</td>\n",
       "      <td>NaN</td>\n",
       "      <td>1</td>\n",
       "      <td>1</td>\n",
       "    </tr>\n",
       "    <tr>\n",
       "      <th>3</th>\n",
       "      <td>10001825542101</td>\n",
       "      <td>202101</td>\n",
       "      <td>1000182554</td>\n",
       "      <td>MM</td>\n",
       "      <td>0.05</td>\n",
       "      <td>88870.46</td>\n",
       "      <td>NaN</td>\n",
       "      <td>202103</td>\n",
       "      <td>3</td>\n",
       "      <td>D01</td>\n",
       "      <td>...</td>\n",
       "      <td>NaN</td>\n",
       "      <td>NaN</td>\n",
       "      <td>NaN</td>\n",
       "      <td>NaN</td>\n",
       "      <td>NaN</td>\n",
       "      <td>NaN</td>\n",
       "      <td>NaN</td>\n",
       "      <td>NaN</td>\n",
       "      <td>1</td>\n",
       "      <td>1</td>\n",
       "    </tr>\n",
       "    <tr>\n",
       "      <th>4</th>\n",
       "      <td>10001825542101</td>\n",
       "      <td>202101</td>\n",
       "      <td>1000182554</td>\n",
       "      <td>MM</td>\n",
       "      <td>0.05</td>\n",
       "      <td>88870.46</td>\n",
       "      <td>NaN</td>\n",
       "      <td>202104</td>\n",
       "      <td>4</td>\n",
       "      <td>D01</td>\n",
       "      <td>...</td>\n",
       "      <td>NaN</td>\n",
       "      <td>NaN</td>\n",
       "      <td>NaN</td>\n",
       "      <td>NaN</td>\n",
       "      <td>NaN</td>\n",
       "      <td>NaN</td>\n",
       "      <td>NaN</td>\n",
       "      <td>NaN</td>\n",
       "      <td>1</td>\n",
       "      <td>1</td>\n",
       "    </tr>\n",
       "  </tbody>\n",
       "</table>\n",
       "<p>5 rows × 98 columns</p>\n",
       "</div>"
      ],
      "text/plain": [
       "     PrimeKey_pbo  SaleMonth      LoanId Investor_pbosale  \\\n",
       "0  10001825542101     202101  1000182554               MM   \n",
       "1  10001825542101     202101  1000182554               MM   \n",
       "2  10001825542101     202101  1000182554               MM   \n",
       "3  10001825542101     202101  1000182554               MM   \n",
       "4  10001825542101     202101  1000182554               MM   \n",
       "\n",
       "   PBOSale_SalePassThru  PBOSale_SaleUPB_Orig  GoSSplit_pbosale  MEPeriod_pbo  \\\n",
       "0                  0.05              88870.46               NaN        202012   \n",
       "1                  0.05              88870.46               NaN        202101   \n",
       "2                  0.05              88870.46               NaN        202102   \n",
       "3                  0.05              88870.46               NaN        202103   \n",
       "4                  0.05              88870.46               NaN        202104   \n",
       "\n",
       "   trade_period InvestorId  ... Management Pool Status Type Dimension  \\\n",
       "0             0        440  ...        NaN         NaN            NaN   \n",
       "1             1        D01  ...        NaN         NaN            NaN   \n",
       "2             2        D01  ...        NaN         NaN            NaN   \n",
       "3             3        D01  ...        NaN         NaN            NaN   \n",
       "4             4        D01  ...        NaN         NaN            NaN   \n",
       "\n",
       "  Loan Type settled date  settled price  EBO_Investor_y  Path_Reperf  \\\n",
       "0       NaN          NaN            NaN             NaN          NaN   \n",
       "1       NaN          NaN            NaN             NaN          NaN   \n",
       "2       NaN          NaN            NaN             NaN          NaN   \n",
       "3       NaN          NaN            NaN             NaN          NaN   \n",
       "4       NaN          NaN            NaN             NaN          NaN   \n",
       "\n",
       "   remit_expected_claims_interest  test_column  \n",
       "0                               1            1  \n",
       "1                               1            1  \n",
       "2                               1            1  \n",
       "3                               1            1  \n",
       "4                               1            1  \n",
       "\n",
       "[5 rows x 98 columns]"
      ]
     },
     "execution_count": 221,
     "metadata": {},
     "output_type": "execute_result"
    }
   ],
   "source": [
    "# temp_df['remit_expected_claims_interest'] = 0\n",
    "# temp_df.shape\n",
    "temp_df.head()"
   ]
  },
  {
   "cell_type": "code",
   "execution_count": 205,
   "id": "d043cb72",
   "metadata": {},
   "outputs": [
    {
     "data": {
      "text/plain": [
       "False"
      ]
     },
     "execution_count": 205,
     "metadata": {},
     "output_type": "execute_result"
    }
   ],
   "source": [
    "temp_df['CurrentPrincipalBalanceAmt_next'].isnull().any()"
   ]
  },
  {
   "cell_type": "code",
   "execution_count": 169,
   "id": "d515599c",
   "metadata": {},
   "outputs": [
    {
     "name": "stdout",
     "output_type": "stream",
     "text": [
      "CurrentPrincipalBalanceAmt_next    float64\n",
      "FHA_DebentureRt                    float64\n",
      "CurrentInterestRate                float64\n",
      "LoanType                            object\n",
      "LoanType                            object\n",
      "LoanSubStatusId                     object\n",
      "dtype: object\n"
     ]
    }
   ],
   "source": [
    "print(new_df[['CurrentPrincipalBalanceAmt_next', 'FHA_DebentureRt', 'CurrentInterestRate', 'LoanType', 'LoanSubStatusId']].dtypes)"
   ]
  },
  {
   "cell_type": "code",
   "execution_count": 184,
   "id": "a9f380e2",
   "metadata": {},
   "outputs": [
    {
     "name": "stdout",
     "output_type": "stream",
     "text": [
      "[['D4']\n",
      " ['D4']\n",
      " ['D4']\n",
      " ...\n",
      " ['D4']\n",
      " ['D3']\n",
      " ['D1']]\n"
     ]
    }
   ],
   "source": [
    "unexpected_chars_filter = new_df['LoanSubStatusId'].astype(str).str.contains(r'[^A-Za-z]')  # Check for non-alphabet chars\n",
    "problematic_rows = new_df[unexpected_chars_filter][['LoanSubStatusId']].values #  .unique()\n",
    "print(problematic_rows)\n"
   ]
  },
  {
   "cell_type": "code",
   "execution_count": 40,
   "id": "2413d288",
   "metadata": {},
   "outputs": [],
   "source": [
    "# df_20220201_TO_trimmed.head()\n",
    "# data_test.head()"
   ]
  },
  {
   "cell_type": "code",
   "execution_count": 41,
   "id": "f0e99ddb",
   "metadata": {},
   "outputs": [],
   "source": [
    "# data_test['PBOSale_SaleDate'].unique()"
   ]
  },
  {
   "cell_type": "code",
   "execution_count": 42,
   "id": "dcef9d0f",
   "metadata": {},
   "outputs": [],
   "source": [
    "# data_test.to_csv(r'C:\\Users\\jboyce\\Desktop\\data_202101SaleMonth_20240717_v0_quicktest.csv', index=True, index_label='Index')"
   ]
  },
  {
   "cell_type": "code",
   "execution_count": 43,
   "id": "35d98c30",
   "metadata": {},
   "outputs": [],
   "source": [
    "# df_barings_20240717_v0_quicktest = data_test.loc[(data_test.Investor_pbosale.isin(['TO', 'MM'])) ]"
   ]
  },
  {
   "cell_type": "code",
   "execution_count": 44,
   "id": "706198f0",
   "metadata": {},
   "outputs": [],
   "source": [
    "# df_barings_20240717_v0_quicktest.to_csv(r'C:\\Users\\jboyce\\Desktop\\data_202101SaleMonth_20240717_v0_quicktest_barings.csv', index=True, index_label='Index')"
   ]
  },
  {
   "cell_type": "code",
   "execution_count": 45,
   "id": "d7ce2579",
   "metadata": {},
   "outputs": [],
   "source": [
    "# ok try to remove extra periods\n",
    "# data_filtered = prep_all_cashflows(new_df)"
   ]
  },
  {
   "cell_type": "code",
   "execution_count": 46,
   "id": "7b331516",
   "metadata": {},
   "outputs": [],
   "source": [
    "# data_filtered.to_csv(r'C:\\Users\\jboyce\\Desktop\\data_filtered_202101SaleMonth_20240717_v0.csv', index=True, index_label='Index')"
   ]
  },
  {
   "cell_type": "code",
   "execution_count": 47,
   "id": "679b567f",
   "metadata": {},
   "outputs": [],
   "source": [
    "# df_barings_20240717_v1_filtered = data_filtered.loc[(data_filtered.Investor_pbosale.isin(['TO', 'MM'])) ]\n"
   ]
  },
  {
   "cell_type": "code",
   "execution_count": 48,
   "id": "51c585ef",
   "metadata": {},
   "outputs": [],
   "source": [
    "# df_barings_20240717_v1_filtered.to_csv(r'C:\\Users\\jboyce\\Desktop\\data_filtered_202101SaleMonth_20240717_v1_barings.csv', index=True, index_label='Index')"
   ]
  },
  {
   "cell_type": "markdown",
   "id": "cffd244d",
   "metadata": {},
   "source": [
    "## PENDING create liquidation tie-out export with remit_fields"
   ]
  },
  {
   "cell_type": "markdown",
   "id": "1cffe7a5",
   "metadata": {},
   "source": [
    "## Export Results 2"
   ]
  },
  {
   "cell_type": "code",
   "execution_count": 336,
   "id": "791d3028",
   "metadata": {},
   "outputs": [],
   "source": [
    "# add loop where it exports by investor, year or path\n",
    "# df_20200102_MM_trimmed.to_excel(r'C:\\Users\\jboyce\\Desktop\\df_20200102_MM_trimmed.xlsx')"
   ]
  },
  {
   "cell_type": "code",
   "execution_count": 30,
   "id": "8e157c9d",
   "metadata": {},
   "outputs": [],
   "source": [
    "# df_20240710_test = new_df_filtered.loc[(new_df_filtered.LoanId.isin([8031259155, 8031351290, 8027140546, 8023525068, 7001712644, 7001511540, 1005042403, 1004919118])) ]\n",
    "# data_final_20240714 = data_test.loc[(new_df_filtered.LoanId.isin([8031259155, 8031351290, 8027140546, 8023525068, 7001712644, 7001511540, 1005042403, 1004919118])) ]"
   ]
  },
  {
   "cell_type": "code",
   "execution_count": 208,
   "id": "d8381d34",
   "metadata": {},
   "outputs": [],
   "source": [
    "df_barings_20240714.to_csv(r'C:\\Users\\jboyce\\Desktop\\df_barings_20240714_index.csv', index=True)"
   ]
  },
  {
   "cell_type": "markdown",
   "id": "a4086fa5",
   "metadata": {},
   "source": [
    "## JUNK"
   ]
  },
  {
   "cell_type": "code",
   "execution_count": 180,
   "id": "93707e38",
   "metadata": {},
   "outputs": [],
   "source": [
    "# new_df.groupby(by=['PrimeKey'])['trade_period'].count()\n",
    "new_df_flat_primekey = pd.DataFrame({'count': new_df.groupby(by=['PrimeKey'])['trade_period'].size()}).reset_index()"
   ]
  },
  {
   "cell_type": "code",
   "execution_count": 181,
   "id": "b82620a1",
   "metadata": {},
   "outputs": [
    {
     "data": {
      "text/html": [
       "<div>\n",
       "<style scoped>\n",
       "    .dataframe tbody tr th:only-of-type {\n",
       "        vertical-align: middle;\n",
       "    }\n",
       "\n",
       "    .dataframe tbody tr th {\n",
       "        vertical-align: top;\n",
       "    }\n",
       "\n",
       "    .dataframe thead th {\n",
       "        text-align: right;\n",
       "    }\n",
       "</style>\n",
       "<table border=\"1\" class=\"dataframe\">\n",
       "  <thead>\n",
       "    <tr style=\"text-align: right;\">\n",
       "      <th></th>\n",
       "      <th>PrimeKey</th>\n",
       "      <th>count</th>\n",
       "    </tr>\n",
       "  </thead>\n",
       "  <tbody>\n",
       "    <tr>\n",
       "      <th>0</th>\n",
       "      <td>10000338631801</td>\n",
       "      <td>197</td>\n",
       "    </tr>\n",
       "    <tr>\n",
       "      <th>1</th>\n",
       "      <td>10000338631904</td>\n",
       "      <td>140</td>\n",
       "    </tr>\n",
       "    <tr>\n",
       "      <th>2</th>\n",
       "      <td>10000341732109</td>\n",
       "      <td>14</td>\n",
       "    </tr>\n",
       "    <tr>\n",
       "      <th>3</th>\n",
       "      <td>10000342241806</td>\n",
       "      <td>53</td>\n",
       "    </tr>\n",
       "    <tr>\n",
       "      <th>4</th>\n",
       "      <td>10000346582106</td>\n",
       "      <td>17</td>\n",
       "    </tr>\n",
       "  </tbody>\n",
       "</table>\n",
       "</div>"
      ],
      "text/plain": [
       "         PrimeKey  count\n",
       "0  10000338631801    197\n",
       "1  10000338631904    140\n",
       "2  10000341732109     14\n",
       "3  10000342241806     53\n",
       "4  10000346582106     17"
      ]
     },
     "execution_count": 181,
     "metadata": {},
     "output_type": "execute_result"
    }
   ],
   "source": [
    "new_df_flat_primekey.head()"
   ]
  },
  {
   "cell_type": "code",
   "execution_count": 183,
   "id": "8f1a1be2",
   "metadata": {},
   "outputs": [
    {
     "data": {
      "text/html": [
       "<div>\n",
       "<style scoped>\n",
       "    .dataframe tbody tr th:only-of-type {\n",
       "        vertical-align: middle;\n",
       "    }\n",
       "\n",
       "    .dataframe tbody tr th {\n",
       "        vertical-align: top;\n",
       "    }\n",
       "\n",
       "    .dataframe thead th {\n",
       "        text-align: right;\n",
       "    }\n",
       "</style>\n",
       "<table border=\"1\" class=\"dataframe\">\n",
       "  <thead>\n",
       "    <tr style=\"text-align: right;\">\n",
       "      <th></th>\n",
       "      <th>PrimeKey</th>\n",
       "      <th>count</th>\n",
       "    </tr>\n",
       "  </thead>\n",
       "  <tbody>\n",
       "  </tbody>\n",
       "</table>\n",
       "</div>"
      ],
      "text/plain": [
       "Empty DataFrame\n",
       "Columns: [PrimeKey, count]\n",
       "Index: []"
      ]
     },
     "execution_count": 183,
     "metadata": {},
     "output_type": "execute_result"
    }
   ],
   "source": [
    "new_df_flat_primekey.loc[new_df_flat_primekey['count'] == 0]"
   ]
  }
 ],
 "metadata": {
  "kernelspec": {
   "display_name": "Python 3",
   "language": "python",
   "name": "python3"
  },
  "language_info": {
   "codemirror_mode": {
    "name": "ipython",
    "version": 3
   },
   "file_extension": ".py",
   "mimetype": "text/x-python",
   "name": "python",
   "nbconvert_exporter": "python",
   "pygments_lexer": "ipython3",
   "version": "3.10.11"
  }
 },
 "nbformat": 4,
 "nbformat_minor": 5
}
